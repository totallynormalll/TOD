{
 "cells": [
  {
   "cell_type": "markdown",
   "metadata": {
    "id": "GsdPsmMakBto"
   },
   "source": [
    "# Работа с Excel"
   ]
  },
  {
   "cell_type": "markdown",
   "metadata": {
    "id": "UlgonlwokBtr"
   },
   "source": [
    "Материалы:\n",
    "* Макрушин С.В. Лекция 7: Работа с Excel\n",
    "* https://docs.xlwings.org/en/stable/quickstart.html\n",
    "* https://nbviewer.jupyter.org/github/pybokeh/jupyter_notebooks/blob/master/xlwings/Excel_Formatting.ipynb#search_text\n"
   ]
  },
  {
   "cell_type": "code",
   "execution_count": 31,
   "metadata": {},
   "outputs": [
    {
     "name": "stdout",
     "output_type": "stream",
     "text": [
      "Requirement already satisfied: xlwings in c:\\users\\user\\downloads\\anaconda\\lib\\site-packages (0.29.1)\n",
      "Requirement already satisfied: pywin32>=224 in c:\\users\\user\\downloads\\anaconda\\lib\\site-packages (from xlwings) (305.1)\n",
      "Note: you may need to restart the kernel to use updated packages.\n"
     ]
    }
   ],
   "source": [
    "%pip install xlwings"
   ]
  },
  {
   "cell_type": "code",
   "execution_count": 32,
   "metadata": {},
   "outputs": [],
   "source": [
    "import csv\n",
    "import pandas as pd\n",
    "import xlwings as xw\n",
    "import numpy as np"
   ]
  },
  {
   "cell_type": "markdown",
   "metadata": {
    "id": "sdyU6WoKkBts"
   },
   "source": [
    "## Задачи для совместного разбора"
   ]
  },
  {
   "cell_type": "markdown",
   "metadata": {
    "id": "NqhbJI3okBtw"
   },
   "source": [
    "1. На листе \"Рецептура\" файла `себестоимостьА_в1.xlsx` для области \"Пшеничный хлеб\" рассчитать себестоимость всех видов продукции."
   ]
  },
  {
   "cell_type": "code",
   "execution_count": 33,
   "metadata": {
    "colab": {
     "base_uri": "https://localhost:8080/",
     "height": 287
    },
    "id": "LVweJDAQkBtw",
    "outputId": "d7ac315d-d2d4-44a2-c0ce-63ead80d05c9"
   },
   "outputs": [],
   "source": [
    "wb = xw.Book('себестоимостьА_в1.xlsx')\n"
   ]
  },
  {
   "cell_type": "code",
   "execution_count": 34,
   "metadata": {
    "colab": {
     "base_uri": "https://localhost:8080/",
     "height": 176
    },
    "id": "jotkFmvskBtx",
    "outputId": "ab096b53-f566-4b7d-ff74-04546d98392b"
   },
   "outputs": [
    {
     "data": {
      "text/html": [
       "<div>\n",
       "<style scoped>\n",
       "    .dataframe tbody tr th:only-of-type {\n",
       "        vertical-align: middle;\n",
       "    }\n",
       "\n",
       "    .dataframe tbody tr th {\n",
       "        vertical-align: top;\n",
       "    }\n",
       "\n",
       "    .dataframe thead th {\n",
       "        text-align: right;\n",
       "    }\n",
       "</style>\n",
       "<table border=\"1\" class=\"dataframe\">\n",
       "  <thead>\n",
       "    <tr style=\"text-align: right;\">\n",
       "      <th></th>\n",
       "      <th>Пшеничная мука</th>\n",
       "      <th>Дрожжи</th>\n",
       "      <th>Сахар</th>\n",
       "      <th>Соль</th>\n",
       "      <th>Куркума молотая</th>\n",
       "      <th>Топленное масло</th>\n",
       "      <th>Кунжутные семена</th>\n",
       "      <th>Масло оливковое</th>\n",
       "    </tr>\n",
       "    <tr>\n",
       "      <th>Вода</th>\n",
       "      <th></th>\n",
       "      <th></th>\n",
       "      <th></th>\n",
       "      <th></th>\n",
       "      <th></th>\n",
       "      <th></th>\n",
       "      <th></th>\n",
       "      <th></th>\n",
       "    </tr>\n",
       "  </thead>\n",
       "  <tbody>\n",
       "    <tr>\n",
       "      <th>NaN</th>\n",
       "      <td>NaN</td>\n",
       "      <td>NaN</td>\n",
       "      <td>NaN</td>\n",
       "      <td>NaN</td>\n",
       "      <td>NaN</td>\n",
       "      <td>NaN</td>\n",
       "      <td>NaN</td>\n",
       "      <td>NaN</td>\n",
       "    </tr>\n",
       "    <tr>\n",
       "      <th>0.20</th>\n",
       "      <td>0.40</td>\n",
       "      <td>0.020</td>\n",
       "      <td>0.02</td>\n",
       "      <td>0.010</td>\n",
       "      <td>0.005</td>\n",
       "      <td>0.10</td>\n",
       "      <td>NaN</td>\n",
       "      <td>NaN</td>\n",
       "    </tr>\n",
       "    <tr>\n",
       "      <th>0.07</th>\n",
       "      <td>0.25</td>\n",
       "      <td>0.010</td>\n",
       "      <td>0.06</td>\n",
       "      <td>0.015</td>\n",
       "      <td>NaN</td>\n",
       "      <td>0.06</td>\n",
       "      <td>0.05</td>\n",
       "      <td>NaN</td>\n",
       "    </tr>\n",
       "    <tr>\n",
       "      <th>0.12</th>\n",
       "      <td>0.22</td>\n",
       "      <td>0.005</td>\n",
       "      <td>NaN</td>\n",
       "      <td>0.009</td>\n",
       "      <td>0.005</td>\n",
       "      <td>NaN</td>\n",
       "      <td>0.05</td>\n",
       "      <td>0.03</td>\n",
       "    </tr>\n",
       "    <tr>\n",
       "      <th>0.12</th>\n",
       "      <td>0.23</td>\n",
       "      <td>0.010</td>\n",
       "      <td>NaN</td>\n",
       "      <td>0.015</td>\n",
       "      <td>NaN</td>\n",
       "      <td>NaN</td>\n",
       "      <td>NaN</td>\n",
       "      <td>0.05</td>\n",
       "    </tr>\n",
       "  </tbody>\n",
       "</table>\n",
       "</div>"
      ],
      "text/plain": [
       "      Пшеничная мука  Дрожжи  Сахар   Соль  Куркума молотая  Топленное масло  \\\n",
       "Вода                                                                           \n",
       "NaN              NaN     NaN    NaN    NaN              NaN              NaN   \n",
       "0.20            0.40   0.020   0.02  0.010            0.005             0.10   \n",
       "0.07            0.25   0.010   0.06  0.015              NaN             0.06   \n",
       "0.12            0.22   0.005    NaN  0.009            0.005              NaN   \n",
       "0.12            0.23   0.010    NaN  0.015              NaN              NaN   \n",
       "\n",
       "      Кунжутные семена  Масло оливковое  \n",
       "Вода                                     \n",
       "NaN                NaN              NaN  \n",
       "0.20               NaN              NaN  \n",
       "0.07              0.05              NaN  \n",
       "0.12              0.05             0.03  \n",
       "0.12               NaN             0.05  "
      ]
     },
     "execution_count": 34,
     "metadata": {},
     "output_type": "execute_result"
    }
   ],
   "source": [
    "sh = wb.sheets['Рецептура']\n",
    "recipe1 = sh.range('рцп_пшеничный_хлеб').value\n",
    "sh.range('G5:O10').options(pd.DataFrame).value"
   ]
  },
  {
   "cell_type": "code",
   "execution_count": 35,
   "metadata": {
    "id": "UxKkiH6ckBtx",
    "outputId": "a882618c-581a-4ff1-df26-6e8d1af31ceb"
   },
   "outputs": [
    {
     "data": {
      "text/plain": [
       "array([[0.2  , 0.4  , 0.02 , 0.02 , 0.01 , 0.005, 0.1  ,   nan,   nan],\n",
       "       [0.07 , 0.25 , 0.01 , 0.06 , 0.015,   nan, 0.06 , 0.05 ,   nan],\n",
       "       [0.12 , 0.22 , 0.005,   nan, 0.009, 0.005,   nan, 0.05 , 0.03 ],\n",
       "       [0.12 , 0.23 , 0.01 ,   nan, 0.015,   nan,   nan,   nan, 0.05 ]])"
      ]
     },
     "execution_count": 35,
     "metadata": {},
     "output_type": "execute_result"
    }
   ],
   "source": [
    "product = sh.range('G7:O10').options(np.array).value\n",
    "product"
   ]
  },
  {
   "cell_type": "code",
   "execution_count": 36,
   "metadata": {
    "id": "TP7Zt_Q0kBty",
    "outputId": "a45bd4b8-bf1b-462a-ac9c-84158e9fda4a"
   },
   "outputs": [
    {
     "data": {
      "text/plain": [
       "array([  7.,  10., 184.,  19.,   7., 290., 105.,  83., 260.])"
      ]
     },
     "execution_count": 36,
     "metadata": {},
     "output_type": "execute_result"
    }
   ],
   "source": [
    "price = sh.range('G14:O14').options(np.array).value\n",
    "price"
   ]
  },
  {
   "cell_type": "code",
   "execution_count": 37,
   "metadata": {
    "id": "YGaaDNDYkBty",
    "outputId": "7d52182d-4a2f-48cd-f6fa-3c6ef5a119b1"
   },
   "outputs": [
    {
     "data": {
      "text/plain": [
       "[21.48, 16.525, 17.423000000000002, 18.085]"
      ]
     },
     "execution_count": 37,
     "metadata": {},
     "output_type": "execute_result"
    }
   ],
   "source": [
    "mult = product * price\n",
    "mean = [np.nansum(row) for row in mult]\n",
    "mean"
   ]
  },
  {
   "cell_type": "markdown",
   "metadata": {
    "id": "w0Fi2moqkBtz"
   },
   "source": [
    "2. Результаты расчетов 1.1 сохранить в отдельном столбце области \"Пшеничный хлеб\""
   ]
  },
  {
   "cell_type": "code",
   "execution_count": 38,
   "metadata": {
    "id": "qP63ZXQLkBtz"
   },
   "outputs": [],
   "source": [
    "sh.range('P7:P10').options(transpose=True).value = mean"
   ]
  },
  {
   "cell_type": "code",
   "execution_count": 39,
   "metadata": {
    "id": "fbo0OdoFkBtz"
   },
   "outputs": [],
   "source": [
    "sh.range('P5').value = \"Себестоимость\""
   ]
  },
  {
   "cell_type": "markdown",
   "metadata": {
    "id": "ucKSTCdRkBt0"
   },
   "source": [
    "3. Приблизить форматирование столбца, добавленного в задаче 2 к оформлению всей области."
   ]
  },
  {
   "cell_type": "code",
   "execution_count": 40,
   "metadata": {
    "id": "rAZQlPcVkBt0"
   },
   "outputs": [],
   "source": [
    "sh.range('P5').api.WrapText = True\n",
    "sh.range('P5').api.Font.Bold = True"
   ]
  },
  {
   "cell_type": "markdown",
   "metadata": {
    "id": "TWLoQRWCkBt1"
   },
   "source": [
    "4. Выполнить 3 с помощью \"протягиваемых\" формул."
   ]
  },
  {
   "cell_type": "code",
   "execution_count": 11,
   "metadata": {
    "id": "c8e855L_kBt1"
   },
   "outputs": [],
   "source": [
    "wb.save()\n",
    "wb.close()"
   ]
  },
  {
   "cell_type": "markdown",
   "metadata": {
    "id": "AahEI6sXkBt1"
   },
   "source": [
    "## Лабораторная работа 7.1"
   ]
  },
  {
   "cell_type": "markdown",
   "metadata": {
    "id": "eCkRGQJ4kBt1"
   },
   "source": [
    "1. Загрузите данные из файлов `reviews_sample.csv` (__ЛР2__) и `recipes_sample.csv` (__ЛР5__) в виде `pd.DataFrame`. Обратите внимание на корректное считывание столбца(ов) с индексами. Оставьте в таблице с рецептами следующие столбцы: `id`, `name`, `minutes`, `submitted`, `description`, `n_ingredients`"
   ]
  },
  {
   "cell_type": "code",
   "execution_count": 41,
   "metadata": {
    "id": "ri-7EsI1kBt2",
    "outputId": "307c35ed-3a54-462d-f590-fcd404f2737c"
   },
   "outputs": [
    {
     "data": {
      "text/html": [
       "<div>\n",
       "<style scoped>\n",
       "    .dataframe tbody tr th:only-of-type {\n",
       "        vertical-align: middle;\n",
       "    }\n",
       "\n",
       "    .dataframe tbody tr th {\n",
       "        vertical-align: top;\n",
       "    }\n",
       "\n",
       "    .dataframe thead th {\n",
       "        text-align: right;\n",
       "    }\n",
       "</style>\n",
       "<table border=\"1\" class=\"dataframe\">\n",
       "  <thead>\n",
       "    <tr style=\"text-align: right;\">\n",
       "      <th></th>\n",
       "      <th>user_id</th>\n",
       "      <th>recipe_id</th>\n",
       "      <th>date</th>\n",
       "      <th>rating</th>\n",
       "      <th>review</th>\n",
       "    </tr>\n",
       "  </thead>\n",
       "  <tbody>\n",
       "    <tr>\n",
       "      <th>920960</th>\n",
       "      <td>743566</td>\n",
       "      <td>44123</td>\n",
       "      <td>2008-01-28</td>\n",
       "      <td>5</td>\n",
       "      <td>I lived in San Diego for 19 years and  would g...</td>\n",
       "    </tr>\n",
       "    <tr>\n",
       "      <th>920958</th>\n",
       "      <td>76503</td>\n",
       "      <td>44123</td>\n",
       "      <td>2003-06-03</td>\n",
       "      <td>5</td>\n",
       "      <td>This soup is the Bomb! Don't hesitate to try.....</td>\n",
       "    </tr>\n",
       "    <tr>\n",
       "      <th>920957</th>\n",
       "      <td>34206</td>\n",
       "      <td>44123</td>\n",
       "      <td>2003-03-23</td>\n",
       "      <td>5</td>\n",
       "      <td>I just can't say enough about how wonderful th...</td>\n",
       "    </tr>\n",
       "  </tbody>\n",
       "</table>\n",
       "</div>"
      ],
      "text/plain": [
       "        user_id  recipe_id        date  rating  \\\n",
       "920960   743566      44123  2008-01-28       5   \n",
       "920958    76503      44123  2003-06-03       5   \n",
       "920957    34206      44123  2003-03-23       5   \n",
       "\n",
       "                                                   review  \n",
       "920960  I lived in San Diego for 19 years and  would g...  \n",
       "920958  This soup is the Bomb! Don't hesitate to try.....  \n",
       "920957  I just can't say enough about how wonderful th...  "
      ]
     },
     "metadata": {},
     "output_type": "display_data"
    }
   ],
   "source": [
    "reviews = pd.read_csv('reviews_sample.csv', index_col=0)\n",
    "\n",
    "recipes = pd.read_csv('recipes_sample.csv')\n",
    "\n",
    "recipes = recipes[['name', 'id', 'minutes', 'submitted', 'description', 'n_ingredients']]\n",
    "display(reviews.loc[reviews['recipe_id'] == 44123])"
   ]
  },
  {
   "cell_type": "markdown",
   "metadata": {
    "id": "_HcNkA1WkBt2"
   },
   "source": [
    "2. Случайным образом выберите 5% строк из каждой таблицы и сохраните две таблицы на разные листы в один файл `recipes.xlsx`. Дайте листам названия \"Рецепты\" и \"Отзывы\", соответствующие содержанию таблиц."
   ]
  },
  {
   "cell_type": "code",
   "execution_count": 43,
   "metadata": {
    "id": "GNWqmL_KkBt2"
   },
   "outputs": [],
   "source": [
    "reviews_df = pd.read_csv('reviews_sample.csv', index_col=0)\n",
    "recipes_df = pd.read_csv('recipes_sample.csv', index_col=0)\n",
    "\n",
    "\n",
    "reviews_sample = reviews_df.sample(frac=0.05, random_state=42)\n",
    "recipes_sample = recipes_df.sample(frac=0.05, random_state=42)\n",
    "\n",
    "\n",
    "with pd.ExcelWriter('recipes.xlsx') as writer:\n",
    "    reviews_sample.to_excel(writer, sheet_name='Отзывы')\n",
    "    recipes_sample.to_excel(writer, sheet_name='Рецепты')"
   ]
  },
  {
   "cell_type": "markdown",
   "metadata": {
    "id": "Xq2mdahYkBt5"
   },
   "source": [
    "3. Используя `xlwings`, добавьте на лист `Рецепты` столбец `seconds_assign`, показывающий время выполнения рецепта в секундах. Выполните задание при помощи присваивания массива значений диапазону ячеек."
   ]
  },
  {
   "cell_type": "code",
   "execution_count": 44,
   "metadata": {
    "id": "yAWy-JeTkBt5",
    "scrolled": true
   },
   "outputs": [],
   "source": [
    "\n",
    "wb = xw.Book('recipes.xlsx')\n",
    "\n",
    "\n",
    "sheet = wb.sheets['Рецепты']\n",
    "\n",
    "\n",
    "sheet.range('I1').value = 'seconds_assign'\n",
    "\n",
    "time_minutes = sheet.range('C2').expand('down').value\n",
    "\n",
    "time_seconds = [time * 60 for time in time_minutes]\n",
    "\n",
    "sheet.range('I2').options(transpose=True).value = time_seconds\n",
    "\n",
    "wb.save()"
   ]
  },
  {
   "cell_type": "markdown",
   "metadata": {
    "id": "nohzpZhskBt6"
   },
   "source": [
    "4. Используя `xlwings`, добавьте на лист `Рецепты` столбец `seconds_formula`, показывающий время выполнения рецепта в секундах. Выполните задание при помощи формул Excel."
   ]
  },
  {
   "cell_type": "code",
   "execution_count": 45,
   "metadata": {
    "id": "X8RN1IGokBt6"
   },
   "outputs": [],
   "source": [
    "\n",
    "sheet.range('J1').value = 'seconds_formula'\n",
    "\n",
    "\n",
    "row_count = sheet.range('C2').expand('down').count\n",
    "for i in range(2, row_count+2):\n",
    "    sheet.range(f'J{i}').formula = f'=C{i}*60'"
   ]
  },
  {
   "cell_type": "markdown",
   "metadata": {
    "id": "c8Dq1rNWkBt6"
   },
   "source": [
    "5. Сделайте названия всех добавленных столбцов полужирными и выровняйте по центру ячейки."
   ]
  },
  {
   "cell_type": "code",
   "execution_count": 46,
   "metadata": {
    "id": "HYvp3QDokBt7",
    "scrolled": true
   },
   "outputs": [],
   "source": [
    "sheet.range('I1').api.Font.Bold = True\n",
    "sheet.range('J1').api.Font.Bold = True\n",
    "sheet.range('I1').api.HorizontalAlignment = -4108  # -4108 соответствует центрированию в Excel\n",
    "sheet.range('J1').api.HorizontalAlignment = -4108 \n",
    "wb.save()"
   ]
  },
  {
   "cell_type": "markdown",
   "metadata": {
    "id": "u1UqllPdkBt7"
   },
   "source": [
    "6. Раскрасьте ячейки столбца `minutes` в соответствии со следующим правилом: если рецепт выполняется быстрее 5 минут, то цвет - зеленый; от 5 до 10 минут - жёлтый; и больше 10 - красный."
   ]
  },
  {
   "cell_type": "code",
   "execution_count": 47,
   "metadata": {
    "id": "cIDD1aA6kBt7"
   },
   "outputs": [],
   "source": [
    "for index, row in enumerate(sheet.range(f'C2:C1501').value, 2):\n",
    "    if row < 5:\n",
    "        sheet.range(f'C{index}').color = (0, 255, 0)\n",
    "    elif 5 <= row <= 10:\n",
    "        sheet.range(f'C{index}').color = (255, 255, 0)\n",
    "    else:\n",
    "        sheet.range(f'C{index}').color = (255, 0, 0)\n"
   ]
  },
  {
   "cell_type": "markdown",
   "metadata": {
    "id": "rzxEg7udkBt-"
   },
   "source": [
    "## Лабораторная работа 7.2"
   ]
  },
  {
   "cell_type": "markdown",
   "metadata": {
    "id": "7snhEEiHkBt-"
   },
   "source": [
    "8. Напишите функцию `validate()`, которая проверяет соответствие всех строк из листа `Отзывы` следующим правилам:\n",
    "    * Рейтинг - это число от 0 до 5 включительно\n",
    "    * Соответствующий рецепт имеется на листе `Рецепты`\n",
    "    \n",
    "В случае несоответствия этим правилам, выделите строку красным цветом"
   ]
  },
  {
   "cell_type": "markdown",
   "metadata": {
    "id": "JemleTJgkBt_"
   },
   "source": [
    "9. В файле `recipes_model.csv` находится модель данных предметной области \"рецепты\". При помощи пакета `csv` считайте эти данные. При помощи пакета `xlwings` запишите данные на лист `Модель` книги `recipes_model.xlsx`, начиная с ячейки `A2`, не используя циклы. Сделайте скриншот текущего состояния листа и прикрепите в ячейку ноутбука."
   ]
  },
  {
   "cell_type": "markdown",
   "metadata": {
    "id": "LWMRtQRnkBuA"
   },
   "source": [
    "10. При помощи пакета `xlwings` добавьте в столбец J формулу для описания столбца на языке SQL. Формула должна реализовывать следующую логику:\n",
    "\n",
    "    1\\. в начале строки идут значения из столбцов В и C (значение столбца С приведено к верхнему регистру), разделенные пробелом\n",
    "    \n",
    "    2\\. далее идут слова на основе столбца \"Ключ\"\n",
    "        2.1 если в столбце \"Ключ\" указано значение \"PK\", то дальше через пробел идет ключевое слово \"PRIMARY KEY\"\n",
    "        2.2 если в столбце \"Ключ\" указано значение \"FK\", то дальше через пробел идет ключевое слово \"REFERENCES\", затем значения столбцов H и I в формате \"название_таблицы(название_столбца)\"\n",
    "        \n",
    "    3\\. если в столбце \"Обязательно к заполнению\" указано значение \"Y\" и в столбце \"Ключ\" указано не \"PK\", то дальше через пробел идет ключевое слово \"NOT NULL\".\n",
    "\n",
    "Заполните этой формулой необходимое количество строк, используя \"протягивание\". Количество строк для протягивания определите на основе данных.\n",
    "\n",
    "Сделайте скриншот текущего состояния листа и прикрепите в ячейку ноутбука."
   ]
  },
  {
   "cell_type": "markdown",
   "metadata": {
    "id": "2K09C0rGkBuA"
   },
   "source": [
    "11. При помощи пакета `xlwings` измените стилизацию листа `Модель`.\n",
    "* для заголовков добавьте заливку цвета `00ccff`\n",
    "* примените автоподбор ширины столбца;\n",
    "* сделайте шрифт заголовков полужирным;\n",
    "* добавьте таблице автофильтр.\n",
    "\n",
    "Сделайте скриншот текущего состояния листа и прикрепите в ячейку ноутбука."
   ]
  },
  {
   "cell_type": "markdown",
   "metadata": {
    "id": "THQD3jlWkBuB"
   },
   "source": [
    "12. Посчитайте количество атрибутов для каждой из сущностей. Создайте лист `Статистика` и запишите в него результат группировки, начиная с ячейки \"А1\". Визуализируйте полученный результат при помощи столбчатой диаграммы. Сохраните полученную визуализацию на лист `Статистика`, начиная с ячейки \"E2\".  Сделайте скриншот листа `Статистика` и прикрепите в ячейку ноутбука.\n",
    "\n",
    "* Вы можете воспользоваться методами для визуализации, которые поставляются вместе с объектами `pandas` (см. https://pandas.pydata.org/docs/reference/api/pandas.DataFrame.plot)"
   ]
  }
 ],
 "metadata": {
  "colab": {
   "provenance": []
  },
  "kernelspec": {
   "display_name": "Python 3 (ipykernel)",
   "language": "python",
   "name": "python3"
  },
  "language_info": {
   "codemirror_mode": {
    "name": "ipython",
    "version": 3
   },
   "file_extension": ".py",
   "mimetype": "text/x-python",
   "name": "python",
   "nbconvert_exporter": "python",
   "pygments_lexer": "ipython3",
   "version": "3.11.7"
  }
 },
 "nbformat": 4,
 "nbformat_minor": 4
}
