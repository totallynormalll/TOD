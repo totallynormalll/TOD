{
  "cells": [
    {
      "cell_type": "markdown",
      "metadata": {
        "id": "8cP-Mb2emB2q"
      },
      "source": [
        "# Форматы данных (1)"
      ]
    },
    {
      "cell_type": "markdown",
      "metadata": {
        "id": "U2DqblGxmB2y"
      },
      "source": [
        "Материалы:\n",
        "* Макрушин С.В. \"Лекция 4: Форматы данных\"\n",
        "* https://docs.python.org/3/library/json.html\n",
        "* https://docs.python.org/3/library/pickle.html\n",
        "* https://www.crummy.com/software/BeautifulSoup/bs4/doc.ru/bs4ru.html\n",
        "* Уэс Маккини. Python и анализ данных"
      ]
    },
    {
      "cell_type": "markdown",
      "metadata": {
        "id": "gfjZ-aV3mB20"
      },
      "source": [
        "## Задачи для совместного разбора"
      ]
    },
    {
      "cell_type": "markdown",
      "metadata": {
        "id": "-Vb3h-T2mB22"
      },
      "source": [
        "1. Вывести все адреса электронной почты, содержащиеся в адресной книге `addres-book.json`"
      ]
    },
    {
      "cell_type": "markdown",
      "metadata": {
        "id": "lI1Qcl8OmB22"
      },
      "source": [
        "2. Вывести телефоны, содержащиеся в адресной книге `addres-book.json`"
      ]
    },
    {
      "cell_type": "markdown",
      "metadata": {
        "id": "9hYyCNdJmB23"
      },
      "source": [
        "3. По данным из файла `addres-book-q.xml` сформировать список словарей с телефонами каждого из людей."
      ]
    },
    {
      "cell_type": "markdown",
      "metadata": {
        "id": "dsYz9JQhmB24"
      },
      "source": [
        "## Лабораторная работа №4"
      ]
    },
    {
      "cell_type": "markdown",
      "metadata": {
        "id": "gsOo_R3XmB26"
      },
      "source": [
        "### JSON"
      ]
    },
    {
      "cell_type": "code",
      "source": [
        "import json"
      ],
      "metadata": {
        "id": "9GHXkKcJmJaf"
      },
      "execution_count": null,
      "outputs": []
    },
    {
      "cell_type": "markdown",
      "metadata": {
        "id": "dBSGpNyBmB27"
      },
      "source": [
        "1.1 Считайте файл `contributors_sample.json`. Воспользовавшись модулем `json`, преобразуйте содержимое файла в соответствующие объекты python. Выведите на экран информацию о первых 3 пользователях."
      ]
    },
    {
      "cell_type": "code",
      "execution_count": null,
      "metadata": {
        "id": "KS5fKgMRmB28"
      },
      "outputs": [],
      "source": [
        "with open('contributors_sample.json', 'r', encoding='utf-8') as f:\n",
        "    contrb = json.load(f)"
      ]
    },
    {
      "cell_type": "code",
      "execution_count": null,
      "metadata": {
        "scrolled": false,
        "id": "omZM-BXsmB28",
        "outputId": "eb506854-654f-4fcc-e30f-f868eb554a8b"
      },
      "outputs": [
        {
          "data": {
            "text/plain": [
              "[{'username': 'uhebert',\n",
              "  'name': 'Lindsey Nguyen',\n",
              "  'sex': 'F',\n",
              "  'address': '01261 Cameron Spring\\nTaylorfurt, AK 97791',\n",
              "  'mail': 'jsalazar@gmail.com',\n",
              "  'jobs': ['Energy engineer',\n",
              "   'Engineer, site',\n",
              "   'Environmental health practitioner',\n",
              "   'Biomedical scientist',\n",
              "   'Jewellery designer'],\n",
              "  'id': 35193},\n",
              " {'username': 'vickitaylor',\n",
              "  'name': 'Cheryl Lewis',\n",
              "  'sex': 'F',\n",
              "  'address': '66992 Welch Brooks\\nMarshallshire, ID 56004',\n",
              "  'mail': 'bhudson@gmail.com',\n",
              "  'jobs': ['Music therapist',\n",
              "   'Volunteer coordinator',\n",
              "   'Designer, interior/spatial'],\n",
              "  'id': 91970},\n",
              " {'username': 'sheilaadams',\n",
              "  'name': 'Julia Allen',\n",
              "  'sex': 'F',\n",
              "  'address': 'Unit 1632 Box 2971\\nDPO AE 23297',\n",
              "  'mail': 'darren44@yahoo.com',\n",
              "  'jobs': ['Management consultant',\n",
              "   'Engineer, structural',\n",
              "   'Lecturer, higher education',\n",
              "   'Theatre manager',\n",
              "   'Designer, textile'],\n",
              "  'id': 1848091}]"
            ]
          },
          "execution_count": 3,
          "metadata": {},
          "output_type": "execute_result"
        }
      ],
      "source": [
        "contrb[:3]"
      ]
    },
    {
      "cell_type": "markdown",
      "metadata": {
        "id": "x2c7DwTImB29"
      },
      "source": [
        "1.2 Выведите уникальные почтовые домены, содержащиеся в почтовых адресах людей"
      ]
    },
    {
      "cell_type": "code",
      "execution_count": null,
      "metadata": {
        "scrolled": true,
        "id": "c3siV3dXmB2-",
        "outputId": "8fb74695-2544-4d0a-cf74-d7ef3f5ec81d"
      },
      "outputs": [
        {
          "data": {
            "text/plain": [
              "{'bhudson@gmail.com',\n",
              " 'danielsjessica@gmail.com',\n",
              " 'darren44@yahoo.com',\n",
              " 'denise42@gmail.com',\n",
              " 'dustin32@hotmail.com',\n",
              " 'josephpowell@gmail.com',\n",
              " 'jsalazar@gmail.com',\n",
              " 'monique02@hotmail.com',\n",
              " 'oclark@hotmail.com',\n",
              " 'stevensonsarah@hotmail.com'}"
            ]
          },
          "execution_count": 4,
          "metadata": {},
          "output_type": "execute_result"
        }
      ],
      "source": [
        "set([user['mail'] for user in contrb][:10])\n",
        "# [:10] указано для среза, чтоб не выводить всю информацию"
      ]
    },
    {
      "cell_type": "markdown",
      "metadata": {
        "id": "HXjJwPZ6mB2-"
      },
      "source": [
        "1.3 Напишите функцию, которая по `username` ищет человека и выводит информацию о нем. Если пользователь с заданным `username` отсутствует, возбудите исключение `ValueError`"
      ]
    },
    {
      "cell_type": "code",
      "execution_count": null,
      "metadata": {
        "id": "U-wanXoJmB2-"
      },
      "outputs": [],
      "source": [
        "def find_username(username):\n",
        "    for user in contrb:\n",
        "        if user['username'] == username:\n",
        "            return user\n",
        "    raise ValueError(f'Пользователь с username \"{username}\" не найден!')"
      ]
    },
    {
      "cell_type": "code",
      "execution_count": null,
      "metadata": {
        "id": "2Ems1BgCmB2_",
        "outputId": "04643f31-1933-4b03-9002-80f9884527da"
      },
      "outputs": [
        {
          "name": "stdout",
          "output_type": "stream",
          "text": [
            "{'username': 'uhebert', 'name': 'Lindsey Nguyen', 'sex': 'F', 'address': '01261 Cameron Spring\\nTaylorfurt, AK 97791', 'mail': 'jsalazar@gmail.com', 'jobs': ['Energy engineer', 'Engineer, site', 'Environmental health practitioner', 'Biomedical scientist', 'Jewellery designer'], 'id': 35193}\n"
          ]
        }
      ],
      "source": [
        "try:\n",
        "    user_info = find_username('uhebert')\n",
        "    print(user_info)\n",
        "except ValueError as e:\n",
        "    print(e)"
      ]
    },
    {
      "cell_type": "code",
      "execution_count": null,
      "metadata": {
        "id": "Od2uN0TbmB2_",
        "outputId": "7aa37cf4-5fad-48ff-e936-4c3739240b87"
      },
      "outputs": [
        {
          "name": "stdout",
          "output_type": "stream",
          "text": [
            "Пользователь с username \"aaaaa\" не найден!\n"
          ]
        }
      ],
      "source": [
        "try:\n",
        "    user_info = find_username('aaaaa')\n",
        "    print(user_info)\n",
        "except ValueError as e:\n",
        "    print(e)"
      ]
    },
    {
      "cell_type": "code",
      "execution_count": null,
      "metadata": {
        "id": "BepFKI7EmB3A"
      },
      "outputs": [],
      "source": [
        "# альтернативный вариант\n",
        "def find_username1(username):\n",
        "    for i in range(len(contrb)):\n",
        "        if contrb[i]['username'] == username:\n",
        "            return contrb[i]\n",
        "    raise ValueError(f'Пользователь с username \"{username}\" не найден!')"
      ]
    },
    {
      "cell_type": "code",
      "execution_count": null,
      "metadata": {
        "id": "bBZIywoQmB3A",
        "outputId": "26be6cf4-fd8f-49ed-c0ab-a8123f61d7dc"
      },
      "outputs": [
        {
          "name": "stdout",
          "output_type": "stream",
          "text": [
            "{'username': 'uhebert', 'name': 'Lindsey Nguyen', 'sex': 'F', 'address': '01261 Cameron Spring\\nTaylorfurt, AK 97791', 'mail': 'jsalazar@gmail.com', 'jobs': ['Energy engineer', 'Engineer, site', 'Environmental health practitioner', 'Biomedical scientist', 'Jewellery designer'], 'id': 35193}\n"
          ]
        }
      ],
      "source": [
        "try:\n",
        "    user_info = find_username1('uhebert')\n",
        "    print(user_info)\n",
        "except ValueError as e:\n",
        "    print(e)"
      ]
    },
    {
      "cell_type": "code",
      "execution_count": null,
      "metadata": {
        "id": "DBe-28acmB3B",
        "outputId": "cfe08c9c-f5e2-40aa-a1fc-bffe5ade31c7"
      },
      "outputs": [
        {
          "name": "stdout",
          "output_type": "stream",
          "text": [
            "Пользователь с username \"aaaaa\" не найден!\n"
          ]
        }
      ],
      "source": [
        "try:\n",
        "    user_info = find_username1('aaaaa')\n",
        "    print(user_info)\n",
        "except ValueError as e:\n",
        "    print(e)"
      ]
    },
    {
      "cell_type": "markdown",
      "metadata": {
        "id": "bwFJuoQHmB3B"
      },
      "source": [
        "1.4 Посчитайте, сколько мужчин и женщин присутсвует в этом наборе данных."
      ]
    },
    {
      "cell_type": "code",
      "execution_count": null,
      "metadata": {
        "id": "PB9dInAymB3B",
        "outputId": "130a6c45-261b-4859-b216-36cb1407dcef"
      },
      "outputs": [
        {
          "name": "stdout",
          "output_type": "stream",
          "text": [
            "Количество мужчин: 2064\n",
            "Количество женщин: 2136\n"
          ]
        }
      ],
      "source": [
        "male_count = sum(1 for user in contrb if user['sex'] == 'M')\n",
        "feme_count = sum(1 for user in contrb if user['sex'] == 'F')\n",
        "print(f\"Количество мужчин: {male_count}\")\n",
        "print(f\"Количество женщин: {feme_count}\")"
      ]
    },
    {
      "cell_type": "markdown",
      "metadata": {
        "id": "mZhGWzgmmB3C"
      },
      "source": [
        "1.5 Создайте `pd.DataFrame` `contributors`, имеющий столбцы `id`, `username` и `sex`."
      ]
    },
    {
      "cell_type": "code",
      "execution_count": null,
      "metadata": {
        "id": "bOlzECZ2mB3C",
        "outputId": "8899119e-fc72-44f0-ef67-affe1c75d17c"
      },
      "outputs": [
        {
          "data": {
            "text/html": [
              "<div>\n",
              "<style scoped>\n",
              "    .dataframe tbody tr th:only-of-type {\n",
              "        vertical-align: middle;\n",
              "    }\n",
              "\n",
              "    .dataframe tbody tr th {\n",
              "        vertical-align: top;\n",
              "    }\n",
              "\n",
              "    .dataframe thead th {\n",
              "        text-align: right;\n",
              "    }\n",
              "</style>\n",
              "<table border=\"1\" class=\"dataframe\">\n",
              "  <thead>\n",
              "    <tr style=\"text-align: right;\">\n",
              "      <th></th>\n",
              "      <th>id</th>\n",
              "      <th>username</th>\n",
              "      <th>sex</th>\n",
              "    </tr>\n",
              "  </thead>\n",
              "  <tbody>\n",
              "    <tr>\n",
              "      <th>0</th>\n",
              "      <td>35193</td>\n",
              "      <td>uhebert</td>\n",
              "      <td>F</td>\n",
              "    </tr>\n",
              "    <tr>\n",
              "      <th>1</th>\n",
              "      <td>91970</td>\n",
              "      <td>vickitaylor</td>\n",
              "      <td>F</td>\n",
              "    </tr>\n",
              "    <tr>\n",
              "      <th>2</th>\n",
              "      <td>1848091</td>\n",
              "      <td>sheilaadams</td>\n",
              "      <td>F</td>\n",
              "    </tr>\n",
              "    <tr>\n",
              "      <th>3</th>\n",
              "      <td>50969</td>\n",
              "      <td>nicole82</td>\n",
              "      <td>F</td>\n",
              "    </tr>\n",
              "    <tr>\n",
              "      <th>4</th>\n",
              "      <td>676820</td>\n",
              "      <td>jean67</td>\n",
              "      <td>M</td>\n",
              "    </tr>\n",
              "    <tr>\n",
              "      <th>...</th>\n",
              "      <td>...</td>\n",
              "      <td>...</td>\n",
              "      <td>...</td>\n",
              "    </tr>\n",
              "    <tr>\n",
              "      <th>4195</th>\n",
              "      <td>423555</td>\n",
              "      <td>stevenspencer</td>\n",
              "      <td>F</td>\n",
              "    </tr>\n",
              "    <tr>\n",
              "      <th>4196</th>\n",
              "      <td>35251</td>\n",
              "      <td>rwilliams</td>\n",
              "      <td>M</td>\n",
              "    </tr>\n",
              "    <tr>\n",
              "      <th>4197</th>\n",
              "      <td>135887</td>\n",
              "      <td>lmartinez</td>\n",
              "      <td>F</td>\n",
              "    </tr>\n",
              "    <tr>\n",
              "      <th>4198</th>\n",
              "      <td>212714</td>\n",
              "      <td>brendahill</td>\n",
              "      <td>M</td>\n",
              "    </tr>\n",
              "    <tr>\n",
              "      <th>4199</th>\n",
              "      <td>344321</td>\n",
              "      <td>mistyray</td>\n",
              "      <td>F</td>\n",
              "    </tr>\n",
              "  </tbody>\n",
              "</table>\n",
              "<p>4200 rows × 3 columns</p>\n",
              "</div>"
            ],
            "text/plain": [
              "           id       username sex\n",
              "0       35193        uhebert   F\n",
              "1       91970    vickitaylor   F\n",
              "2     1848091    sheilaadams   F\n",
              "3       50969       nicole82   F\n",
              "4      676820         jean67   M\n",
              "...       ...            ...  ..\n",
              "4195   423555  stevenspencer   F\n",
              "4196    35251      rwilliams   M\n",
              "4197   135887      lmartinez   F\n",
              "4198   212714     brendahill   M\n",
              "4199   344321       mistyray   F\n",
              "\n",
              "[4200 rows x 3 columns]"
            ]
          },
          "execution_count": 12,
          "metadata": {},
          "output_type": "execute_result"
        }
      ],
      "source": [
        "import pandas as pd\n",
        "contributors = pd.DataFrame(data=contrb, columns=['id','username','sex'])\n",
        "contributors"
      ]
    },
    {
      "cell_type": "markdown",
      "metadata": {
        "id": "mPwR5TcomB3C"
      },
      "source": [
        "1.6 Загрузите данные из файла `recipes_sample.csv` (__ЛР2__) в таблицу `recipes`. Объедините `recipes` с таблицей `contributors` с сохранением строк в том случае, если информация о человеке отсутствует в JSON-файле. Для скольких человек информация отсутствует?"
      ]
    },
    {
      "cell_type": "code",
      "execution_count": null,
      "metadata": {
        "id": "6CvEahzCmB3C"
      },
      "outputs": [],
      "source": [
        "recipes_sample = pd.read_csv('recipes_sample.csv', delimiter=',')"
      ]
    },
    {
      "cell_type": "code",
      "execution_count": null,
      "metadata": {
        "id": "GkjyJ1U0mB3C",
        "outputId": "0630eeff-4a9b-4a21-8642-7902ed91e0cc"
      },
      "outputs": [
        {
          "data": {
            "text/html": [
              "<div>\n",
              "<style scoped>\n",
              "    .dataframe tbody tr th:only-of-type {\n",
              "        vertical-align: middle;\n",
              "    }\n",
              "\n",
              "    .dataframe tbody tr th {\n",
              "        vertical-align: top;\n",
              "    }\n",
              "\n",
              "    .dataframe thead th {\n",
              "        text-align: right;\n",
              "    }\n",
              "</style>\n",
              "<table border=\"1\" class=\"dataframe\">\n",
              "  <thead>\n",
              "    <tr style=\"text-align: right;\">\n",
              "      <th></th>\n",
              "      <th>name</th>\n",
              "      <th>id</th>\n",
              "      <th>minutes</th>\n",
              "      <th>contributor_id</th>\n",
              "      <th>submitted</th>\n",
              "      <th>n_steps</th>\n",
              "      <th>description</th>\n",
              "      <th>n_ingredients</th>\n",
              "      <th>username</th>\n",
              "      <th>sex</th>\n",
              "    </tr>\n",
              "  </thead>\n",
              "  <tbody>\n",
              "    <tr>\n",
              "      <th>30000</th>\n",
              "      <td>NaN</td>\n",
              "      <td>35193</td>\n",
              "      <td>NaN</td>\n",
              "      <td>NaN</td>\n",
              "      <td>NaN</td>\n",
              "      <td>NaN</td>\n",
              "      <td>NaN</td>\n",
              "      <td>NaN</td>\n",
              "      <td>uhebert</td>\n",
              "      <td>F</td>\n",
              "    </tr>\n",
              "    <tr>\n",
              "      <th>30001</th>\n",
              "      <td>NaN</td>\n",
              "      <td>91970</td>\n",
              "      <td>NaN</td>\n",
              "      <td>NaN</td>\n",
              "      <td>NaN</td>\n",
              "      <td>NaN</td>\n",
              "      <td>NaN</td>\n",
              "      <td>NaN</td>\n",
              "      <td>vickitaylor</td>\n",
              "      <td>F</td>\n",
              "    </tr>\n",
              "    <tr>\n",
              "      <th>30002</th>\n",
              "      <td>NaN</td>\n",
              "      <td>1848091</td>\n",
              "      <td>NaN</td>\n",
              "      <td>NaN</td>\n",
              "      <td>NaN</td>\n",
              "      <td>NaN</td>\n",
              "      <td>NaN</td>\n",
              "      <td>NaN</td>\n",
              "      <td>sheilaadams</td>\n",
              "      <td>F</td>\n",
              "    </tr>\n",
              "    <tr>\n",
              "      <th>30003</th>\n",
              "      <td>NaN</td>\n",
              "      <td>676820</td>\n",
              "      <td>NaN</td>\n",
              "      <td>NaN</td>\n",
              "      <td>NaN</td>\n",
              "      <td>NaN</td>\n",
              "      <td>NaN</td>\n",
              "      <td>NaN</td>\n",
              "      <td>jean67</td>\n",
              "      <td>M</td>\n",
              "    </tr>\n",
              "    <tr>\n",
              "      <th>30004</th>\n",
              "      <td>NaN</td>\n",
              "      <td>64918</td>\n",
              "      <td>NaN</td>\n",
              "      <td>NaN</td>\n",
              "      <td>NaN</td>\n",
              "      <td>NaN</td>\n",
              "      <td>NaN</td>\n",
              "      <td>NaN</td>\n",
              "      <td>james67</td>\n",
              "      <td>F</td>\n",
              "    </tr>\n",
              "    <tr>\n",
              "      <th>...</th>\n",
              "      <td>...</td>\n",
              "      <td>...</td>\n",
              "      <td>...</td>\n",
              "      <td>...</td>\n",
              "      <td>...</td>\n",
              "      <td>...</td>\n",
              "      <td>...</td>\n",
              "      <td>...</td>\n",
              "      <td>...</td>\n",
              "      <td>...</td>\n",
              "    </tr>\n",
              "    <tr>\n",
              "      <th>34025</th>\n",
              "      <td>NaN</td>\n",
              "      <td>423555</td>\n",
              "      <td>NaN</td>\n",
              "      <td>NaN</td>\n",
              "      <td>NaN</td>\n",
              "      <td>NaN</td>\n",
              "      <td>NaN</td>\n",
              "      <td>NaN</td>\n",
              "      <td>stevenspencer</td>\n",
              "      <td>F</td>\n",
              "    </tr>\n",
              "    <tr>\n",
              "      <th>34026</th>\n",
              "      <td>NaN</td>\n",
              "      <td>35251</td>\n",
              "      <td>NaN</td>\n",
              "      <td>NaN</td>\n",
              "      <td>NaN</td>\n",
              "      <td>NaN</td>\n",
              "      <td>NaN</td>\n",
              "      <td>NaN</td>\n",
              "      <td>rwilliams</td>\n",
              "      <td>M</td>\n",
              "    </tr>\n",
              "    <tr>\n",
              "      <th>34027</th>\n",
              "      <td>NaN</td>\n",
              "      <td>135887</td>\n",
              "      <td>NaN</td>\n",
              "      <td>NaN</td>\n",
              "      <td>NaN</td>\n",
              "      <td>NaN</td>\n",
              "      <td>NaN</td>\n",
              "      <td>NaN</td>\n",
              "      <td>lmartinez</td>\n",
              "      <td>F</td>\n",
              "    </tr>\n",
              "    <tr>\n",
              "      <th>34028</th>\n",
              "      <td>NaN</td>\n",
              "      <td>212714</td>\n",
              "      <td>NaN</td>\n",
              "      <td>NaN</td>\n",
              "      <td>NaN</td>\n",
              "      <td>NaN</td>\n",
              "      <td>NaN</td>\n",
              "      <td>NaN</td>\n",
              "      <td>brendahill</td>\n",
              "      <td>M</td>\n",
              "    </tr>\n",
              "    <tr>\n",
              "      <th>34029</th>\n",
              "      <td>NaN</td>\n",
              "      <td>344321</td>\n",
              "      <td>NaN</td>\n",
              "      <td>NaN</td>\n",
              "      <td>NaN</td>\n",
              "      <td>NaN</td>\n",
              "      <td>NaN</td>\n",
              "      <td>NaN</td>\n",
              "      <td>mistyray</td>\n",
              "      <td>F</td>\n",
              "    </tr>\n",
              "  </tbody>\n",
              "</table>\n",
              "<p>4030 rows × 10 columns</p>\n",
              "</div>"
            ],
            "text/plain": [
              "      name       id  minutes  contributor_id submitted  n_steps description  \\\n",
              "30000  NaN    35193      NaN             NaN       NaN      NaN         NaN   \n",
              "30001  NaN    91970      NaN             NaN       NaN      NaN         NaN   \n",
              "30002  NaN  1848091      NaN             NaN       NaN      NaN         NaN   \n",
              "30003  NaN   676820      NaN             NaN       NaN      NaN         NaN   \n",
              "30004  NaN    64918      NaN             NaN       NaN      NaN         NaN   \n",
              "...    ...      ...      ...             ...       ...      ...         ...   \n",
              "34025  NaN   423555      NaN             NaN       NaN      NaN         NaN   \n",
              "34026  NaN    35251      NaN             NaN       NaN      NaN         NaN   \n",
              "34027  NaN   135887      NaN             NaN       NaN      NaN         NaN   \n",
              "34028  NaN   212714      NaN             NaN       NaN      NaN         NaN   \n",
              "34029  NaN   344321      NaN             NaN       NaN      NaN         NaN   \n",
              "\n",
              "       n_ingredients       username sex  \n",
              "30000            NaN        uhebert   F  \n",
              "30001            NaN    vickitaylor   F  \n",
              "30002            NaN    sheilaadams   F  \n",
              "30003            NaN         jean67   M  \n",
              "30004            NaN        james67   F  \n",
              "...              ...            ...  ..  \n",
              "34025            NaN  stevenspencer   F  \n",
              "34026            NaN      rwilliams   M  \n",
              "34027            NaN      lmartinez   F  \n",
              "34028            NaN     brendahill   M  \n",
              "34029            NaN       mistyray   F  \n",
              "\n",
              "[4030 rows x 10 columns]"
            ]
          },
          "execution_count": 14,
          "metadata": {},
          "output_type": "execute_result"
        }
      ],
      "source": [
        "recipes_id = recipes_sample.merge(contributors, on='id', how='outer', indicator=True)\n",
        "recipes = recipes_id[recipes_id['_merge'] == 'right_only'].drop(columns='_merge')\n",
        "recipes"
      ]
    },
    {
      "cell_type": "code",
      "execution_count": null,
      "metadata": {
        "id": "cy5u5_-3mB3D"
      },
      "outputs": [],
      "source": [
        "# merge():\n",
        "# on - по какому столбцу объединяем\n",
        "# how - определяет тип объединения ('inner', 'outer', 'left', 'right')\n",
        "#    outer - возвращает все строки из обоих датафреймов, заполняя пропущенные значения NaN,\n",
        "#            если соответствующие значения не найдены в другом датафрейме\n",
        "# indicator - если установлено в True, добавляет столбец _merge, который показывает,\n",
        "#             в каких датафреймах содержится каждая строка после объединения."
      ]
    },
    {
      "cell_type": "code",
      "execution_count": null,
      "metadata": {
        "id": "QpZxKJo1mB3D",
        "outputId": "c79181ef-dfae-45d9-bb0e-5c37263d342d"
      },
      "outputs": [
        {
          "data": {
            "text/html": [
              "<div>\n",
              "<style scoped>\n",
              "    .dataframe tbody tr th:only-of-type {\n",
              "        vertical-align: middle;\n",
              "    }\n",
              "\n",
              "    .dataframe tbody tr th {\n",
              "        vertical-align: top;\n",
              "    }\n",
              "\n",
              "    .dataframe thead th {\n",
              "        text-align: right;\n",
              "    }\n",
              "</style>\n",
              "<table border=\"1\" class=\"dataframe\">\n",
              "  <thead>\n",
              "    <tr style=\"text-align: right;\">\n",
              "      <th></th>\n",
              "      <th>name</th>\n",
              "      <th>id</th>\n",
              "      <th>minutes</th>\n",
              "      <th>contributor_id</th>\n",
              "      <th>submitted</th>\n",
              "      <th>n_steps</th>\n",
              "      <th>description</th>\n",
              "      <th>n_ingredients</th>\n",
              "      <th>username</th>\n",
              "      <th>sex</th>\n",
              "    </tr>\n",
              "  </thead>\n",
              "  <tbody>\n",
              "    <tr>\n",
              "      <th>0</th>\n",
              "      <td>6 ingredient chicken stew</td>\n",
              "      <td>163148</td>\n",
              "      <td>310</td>\n",
              "      <td>221694</td>\n",
              "      <td>2006-04-06</td>\n",
              "      <td>4.0</td>\n",
              "      <td>i made this up tonight and the sauce was reall...</td>\n",
              "      <td>6.0</td>\n",
              "      <td>greenedominique</td>\n",
              "      <td>F</td>\n",
              "    </tr>\n",
              "    <tr>\n",
              "      <th>1</th>\n",
              "      <td>acaramelados  almond stuffed prunes</td>\n",
              "      <td>223979</td>\n",
              "      <td>30</td>\n",
              "      <td>125356</td>\n",
              "      <td>2007-04-22</td>\n",
              "      <td>NaN</td>\n",
              "      <td>this recipe came from my great-aunt tina. it i...</td>\n",
              "      <td>NaN</td>\n",
              "      <td>rebeccaryan</td>\n",
              "      <td>F</td>\n",
              "    </tr>\n",
              "    <tr>\n",
              "      <th>2</th>\n",
              "      <td>apple stacks</td>\n",
              "      <td>190858</td>\n",
              "      <td>8</td>\n",
              "      <td>293410</td>\n",
              "      <td>2006-10-16</td>\n",
              "      <td>10.0</td>\n",
              "      <td>a light breakfast or nutritious snack! i like ...</td>\n",
              "      <td>5.0</td>\n",
              "      <td>lhernandez</td>\n",
              "      <td>M</td>\n",
              "    </tr>\n",
              "    <tr>\n",
              "      <th>3</th>\n",
              "      <td>apricot and brandy jam</td>\n",
              "      <td>41143</td>\n",
              "      <td>760</td>\n",
              "      <td>34146</td>\n",
              "      <td>2002-09-24</td>\n",
              "      <td>10.0</td>\n",
              "      <td>this is a very yummy apricot jam, and it makes...</td>\n",
              "      <td>6.0</td>\n",
              "      <td>jose78</td>\n",
              "      <td>M</td>\n",
              "    </tr>\n",
              "    <tr>\n",
              "      <th>4</th>\n",
              "      <td>apricot lentil soup</td>\n",
              "      <td>279912</td>\n",
              "      <td>60</td>\n",
              "      <td>565592</td>\n",
              "      <td>2008-01-18</td>\n",
              "      <td>10.0</td>\n",
              "      <td>this armenian soup has been my stand-by cold w...</td>\n",
              "      <td>12.0</td>\n",
              "      <td>jennifer33</td>\n",
              "      <td>F</td>\n",
              "    </tr>\n",
              "  </tbody>\n",
              "</table>\n",
              "</div>"
            ],
            "text/plain": [
              "                                  name      id  minutes  contributor_id  \\\n",
              "0            6 ingredient chicken stew  163148      310          221694   \n",
              "1  acaramelados  almond stuffed prunes  223979       30          125356   \n",
              "2                         apple stacks  190858        8          293410   \n",
              "3               apricot and brandy jam   41143      760           34146   \n",
              "4                  apricot lentil soup  279912       60          565592   \n",
              "\n",
              "    submitted  n_steps                                        description  \\\n",
              "0  2006-04-06      4.0  i made this up tonight and the sauce was reall...   \n",
              "1  2007-04-22      NaN  this recipe came from my great-aunt tina. it i...   \n",
              "2  2006-10-16     10.0  a light breakfast or nutritious snack! i like ...   \n",
              "3  2002-09-24     10.0  this is a very yummy apricot jam, and it makes...   \n",
              "4  2008-01-18     10.0  this armenian soup has been my stand-by cold w...   \n",
              "\n",
              "   n_ingredients         username sex  \n",
              "0            6.0  greenedominique   F  \n",
              "1            NaN      rebeccaryan   F  \n",
              "2            5.0       lhernandez   M  \n",
              "3            6.0           jose78   M  \n",
              "4           12.0       jennifer33   F  "
            ]
          },
          "execution_count": 16,
          "metadata": {},
          "output_type": "execute_result"
        }
      ],
      "source": [
        "recipes1 = pd.merge(recipes_sample, contributors, on='id')\n",
        "recipes1.dropna(subset=['name'])\n",
        "recipes1[:5]\n",
        "\n",
        "# subset: Список столбцов или индексов, на основе которых нужно проверять наличие пропущенных значений."
      ]
    },
    {
      "cell_type": "markdown",
      "metadata": {
        "id": "sg5ZRDH5mB3E"
      },
      "source": [
        "### pickle"
      ]
    },
    {
      "cell_type": "code",
      "execution_count": null,
      "metadata": {
        "id": "9jKZ2dfqmB3E"
      },
      "outputs": [],
      "source": [
        "import pickle"
      ]
    },
    {
      "cell_type": "markdown",
      "metadata": {
        "id": "hjtPu0UWmB3E"
      },
      "source": [
        "2.1 На основе файла `contributors_sample.json` создайте словарь следующего вида:\n",
        "```\n",
        "{\n",
        "    должность: [список username людей, занимавших эту должность]\n",
        "}\n",
        "```"
      ]
    },
    {
      "cell_type": "code",
      "execution_count": null,
      "metadata": {
        "scrolled": true,
        "id": "B6fiyJMbmB3E",
        "outputId": "694c87d5-67e5-4e33-fa5c-dd4741a68e37"
      },
      "outputs": [
        {
          "data": {
            "text/plain": [
              "{'Energy engineer': ['uhebert',\n",
              "  'annmoore',\n",
              "  'garysilva',\n",
              "  'martinezashley',\n",
              "  'sextonsheila',\n",
              "  'pjames',\n",
              "  'smithjonathan',\n",
              "  'wardjames',\n",
              "  'cwheeler',\n",
              "  'ucarlson',\n",
              "  'robert71',\n",
              "  'johnsontheresa',\n",
              "  'amanda41',\n",
              "  'stacey47',\n",
              "  'timothynelson',\n",
              "  'timothynelson',\n",
              "  'rogersmichael',\n",
              "  'melissa94',\n",
              "  'wmcdaniel',\n",
              "  'charles74',\n",
              "  'smithjennifer',\n",
              "  'clintonjones'],\n",
              " 'Engineer, site': ['uhebert',\n",
              "  'nancy12',\n",
              "  'andrea03',\n",
              "  'catherineross',\n",
              "  'wesley32',\n",
              "  'natalieross',\n",
              "  'rossdoris',\n",
              "  'christophersmith',\n",
              "  'dbooker',\n",
              "  'ericarobertson',\n",
              "  'trantricia',\n",
              "  'tpugh',\n",
              "  'jasonvelez',\n",
              "  'samantha36',\n",
              "  'brandidaniels',\n",
              "  'tenglish',\n",
              "  'reyesbrett',\n",
              "  'austin18',\n",
              "  'vjohnson',\n",
              "  'zmejia',\n",
              "  'daniel04',\n",
              "  'cynthia20',\n",
              "  'morgan15',\n",
              "  'avaldez',\n",
              "  'jessica92',\n",
              "  'laurieholloway',\n",
              "  'baileyvictoria'],\n",
              " 'Environmental health practitioner': ['uhebert',\n",
              "  'jonathanchristian',\n",
              "  'xjohnson',\n",
              "  'dsmith',\n",
              "  'james01',\n",
              "  'nancytaylor',\n",
              "  'ztaylor',\n",
              "  'andrewwoods',\n",
              "  'susan54',\n",
              "  'fmaldonado',\n",
              "  'james74',\n",
              "  'bakerjacob',\n",
              "  'stephanie81',\n",
              "  'whitejoseph',\n",
              "  'qolson',\n",
              "  'hknox',\n",
              "  'gonzalesdaniel',\n",
              "  'tranronald',\n",
              "  'jessegreen',\n",
              "  'stephanie69',\n",
              "  'ellisdennis',\n",
              "  'melaniejohnson',\n",
              "  'bradleyalexander',\n",
              "  'chadandrews',\n",
              "  'thomas33',\n",
              "  'john93',\n",
              "  'tanderson',\n",
              "  'dward',\n",
              "  'kathleenbarnett']}"
            ]
          },
          "execution_count": 18,
          "metadata": {},
          "output_type": "execute_result"
        }
      ],
      "source": [
        "from collections import defaultdict\n",
        "\n",
        "contrb_job = defaultdict(list)\n",
        "for i in contrb:\n",
        "    for j in i['jobs']:\n",
        "        contrb_job[j].append(i['username'])\n",
        "\n",
        "# вывод среза полученного словаря для удобства просмотра\n",
        "dict(list(dict(contrb_job).items())[:3])"
      ]
    },
    {
      "cell_type": "markdown",
      "metadata": {
        "id": "OuH82ABPmB3F"
      },
      "source": [
        "2.2 Сохраните результаты в файл `job_people.pickle` и в файл `job_people.json` с использованием форматов pickle и JSON соответственно. Сравните объемы получившихся файлов. При сохранении в JSON укажите аргумент `indent`."
      ]
    },
    {
      "cell_type": "code",
      "execution_count": null,
      "metadata": {
        "id": "Mzu3p8s_mB3F"
      },
      "outputs": [],
      "source": [
        "with open('job_people.pickle', 'wb') as f:\n",
        "    pickle.dump(contrb_job, f)\n",
        "\n",
        "with open('job_people.json', 'w') as f:\n",
        "    json.dump(contrb_job, f, indent=2)\n",
        "\n",
        "# indent=2 указывает, что данные будут записаны в файл в формате JSON с\n",
        "# отступами размером в 2 пробела для улучшения читаемости файла"
      ]
    },
    {
      "cell_type": "markdown",
      "metadata": {
        "id": "5xanyXtTmB3F"
      },
      "source": [
        "2.3 Считайте файл `job_people.pickle` и продемонстрируйте, что данные считались корректно."
      ]
    },
    {
      "cell_type": "code",
      "execution_count": null,
      "metadata": {
        "scrolled": true,
        "id": "6iSKz4edmB3G",
        "outputId": "009cd11a-9352-4901-8404-89bff9ab0968"
      },
      "outputs": [
        {
          "data": {
            "text/plain": [
              "{'Energy engineer': ['uhebert',\n",
              "  'annmoore',\n",
              "  'garysilva',\n",
              "  'martinezashley',\n",
              "  'sextonsheila',\n",
              "  'pjames',\n",
              "  'smithjonathan',\n",
              "  'wardjames',\n",
              "  'cwheeler',\n",
              "  'ucarlson',\n",
              "  'robert71',\n",
              "  'johnsontheresa',\n",
              "  'amanda41',\n",
              "  'stacey47',\n",
              "  'timothynelson',\n",
              "  'timothynelson',\n",
              "  'rogersmichael',\n",
              "  'melissa94',\n",
              "  'wmcdaniel',\n",
              "  'charles74',\n",
              "  'smithjennifer',\n",
              "  'clintonjones'],\n",
              " 'Engineer, site': ['uhebert',\n",
              "  'nancy12',\n",
              "  'andrea03',\n",
              "  'catherineross',\n",
              "  'wesley32',\n",
              "  'natalieross',\n",
              "  'rossdoris',\n",
              "  'christophersmith',\n",
              "  'dbooker',\n",
              "  'ericarobertson',\n",
              "  'trantricia',\n",
              "  'tpugh',\n",
              "  'jasonvelez',\n",
              "  'samantha36',\n",
              "  'brandidaniels',\n",
              "  'tenglish',\n",
              "  'reyesbrett',\n",
              "  'austin18',\n",
              "  'vjohnson',\n",
              "  'zmejia',\n",
              "  'daniel04',\n",
              "  'cynthia20',\n",
              "  'morgan15',\n",
              "  'avaldez',\n",
              "  'jessica92',\n",
              "  'laurieholloway',\n",
              "  'baileyvictoria'],\n",
              " 'Environmental health practitioner': ['uhebert',\n",
              "  'jonathanchristian',\n",
              "  'xjohnson',\n",
              "  'dsmith',\n",
              "  'james01',\n",
              "  'nancytaylor',\n",
              "  'ztaylor',\n",
              "  'andrewwoods',\n",
              "  'susan54',\n",
              "  'fmaldonado',\n",
              "  'james74',\n",
              "  'bakerjacob',\n",
              "  'stephanie81',\n",
              "  'whitejoseph',\n",
              "  'qolson',\n",
              "  'hknox',\n",
              "  'gonzalesdaniel',\n",
              "  'tranronald',\n",
              "  'jessegreen',\n",
              "  'stephanie69',\n",
              "  'ellisdennis',\n",
              "  'melaniejohnson',\n",
              "  'bradleyalexander',\n",
              "  'chadandrews',\n",
              "  'thomas33',\n",
              "  'john93',\n",
              "  'tanderson',\n",
              "  'dward',\n",
              "  'kathleenbarnett']}"
            ]
          },
          "execution_count": 20,
          "metadata": {},
          "output_type": "execute_result"
        }
      ],
      "source": [
        "with open('job_people.pickle', 'rb') as f:\n",
        "    job_people = pickle.load(f)\n",
        "\n",
        "# вывод среза полученного словаря для удобства просмотра\n",
        "dict(list(dict(contrb_job).items())[:3])"
      ]
    },
    {
      "cell_type": "markdown",
      "metadata": {
        "id": "ZxIFr8EcmB3G"
      },
      "source": [
        "### XML"
      ]
    },
    {
      "cell_type": "code",
      "execution_count": null,
      "metadata": {
        "id": "dhkR6tzWmB3M"
      },
      "outputs": [],
      "source": [
        "import requests\n",
        "from bs4 import BeautifulSoup"
      ]
    },
    {
      "cell_type": "markdown",
      "metadata": {
        "id": "ei1xd2knmB3M"
      },
      "source": [
        "3.1 По данным файла `steps_sample.xml` сформируйте словарь с шагами по каждому рецепту вида `{id_рецепта: [\"шаг1\", \"шаг2\"]}`. Сохраните этот словарь в файл `steps_sample.json`"
      ]
    },
    {
      "cell_type": "code",
      "execution_count": null,
      "metadata": {
        "id": "lAQfOE-omB3M"
      },
      "outputs": [],
      "source": [
        "with open('steps_sample.xml') as f:\n",
        "    steps_sample = BeautifulSoup(f, 'xml')"
      ]
    },
    {
      "cell_type": "code",
      "execution_count": null,
      "metadata": {
        "id": "5ZrpCjk4mB3N",
        "outputId": "d38e8500-49b8-446c-dbaa-d40cd1bc6c82"
      },
      "outputs": [
        {
          "data": {
            "text/plain": [
              "{'44123': ['in 1 / 4 cup butter , saute carrots , onion , celery and broccoli stems for 5 minutes',\n",
              "  'add thyme , oregano and basil',\n",
              "  'saute 5 minutes more',\n",
              "  'add wine and deglaze pan',\n",
              "  'add hot chicken stock and reduce by one-third',\n",
              "  'add worcestershire sauce , tabasco , smoked chicken , beans and broccoli florets',\n",
              "  'simmer 5 minutes',\n",
              "  'add cream , simmer 5 minutes more and season to taste',\n",
              "  'drop in remaining butter , piece by piece , stirring until melted and serve immediately',\n",
              "  'smoked chicken: on a covered grill , slightly smoke boneless chicken , cooking to medium rare',\n",
              "  'chef meskan uses applewood chips and does not allow the grill to become too hot'],\n",
              " '67664': ['mix all the ingredients using a blender',\n",
              "  'pour into popsicle molds',\n",
              "  'freeze and enjoy !'],\n",
              " '38798': ['combine all ingredients in a large bowl and mix well',\n",
              "  'shape into one-inch balls',\n",
              "  'cover and refrigerate or freeze until ready to bake',\n",
              "  'preheat oven to 350 degrees',\n",
              "  'place on ungreased baking sheet and bake until light brown']}"
            ]
          },
          "execution_count": 23,
          "metadata": {},
          "output_type": "execute_result"
        }
      ],
      "source": [
        "from collections import defaultdict\n",
        "\n",
        "id_recipes = defaultdict(list)\n",
        "for recipe in steps_sample.find_all('recipe'):\n",
        "    for steps_list in [step.text for step in recipe.find_all('step')]:\n",
        "        id_recipes[recipe.find('id').text].append(steps_list)\n",
        "\n",
        "dict(list(dict(id_recipes).items())[:3])"
      ]
    },
    {
      "cell_type": "markdown",
      "metadata": {
        "id": "peyEGJD-mB3N"
      },
      "source": [
        "3.2 По данным файла `steps_sample.xml` сформируйте словарь следующего вида: `кол-во_шагов_в_рецепте: [список_id_рецептов]`"
      ]
    },
    {
      "cell_type": "code",
      "execution_count": null,
      "metadata": {
        "id": "Dkb792smmB3N"
      },
      "outputs": [],
      "source": [
        "# Примеры:\n",
        "\n",
        "\n",
        "# Находим первый рецепт\n",
        "#first_recipe = steps_sample.find('recipe')\n",
        "# его шаги\n",
        "#steps = first_recipe.find_all('step')\n",
        "#print(len(steps)), print(first_recipe.find('id'))\n",
        "\n",
        "# Выводим шаги первого рецепта\n",
        "#for step in first_recipe.find_all('step'):\n",
        "#    print(step.text)\n",
        "\n",
        "# Если нужно получить доступ к определенному шагу по индексу:\n",
        "# specific_step = first_recipe.find_all('step')[индекс]\n",
        "\n",
        "# Находим все рецепты\n",
        "#recipes = steps_sample.find_all('recipe')\n",
        "\n",
        "# Перебираем каждый рецепт и выводим количество шагов\n",
        "#for recipe in recipes:\n",
        "#    steps = recipe.find_all('step')\n",
        "#    print(f\"Рецепт: {recipe.find('id').text}\")\n",
        "#    print(f\"Количество шагов: {len(steps)}\")"
      ]
    },
    {
      "cell_type": "code",
      "execution_count": null,
      "metadata": {
        "id": "InpiUN6HmB3N",
        "outputId": "70c8d765-1231-4ecc-9dbe-5d1068f75b53"
      },
      "outputs": [
        {
          "data": {
            "text/plain": [
              "{56: ['509506'], 65: ['510490'], 52: ['185860'], 49: ['254347', '498384']}"
            ]
          },
          "execution_count": 25,
          "metadata": {},
          "output_type": "execute_result"
        }
      ],
      "source": [
        "# Находим все рецепты\n",
        "recipes = steps_sample.find_all('recipe')\n",
        "count = defaultdict(list)\n",
        "for recipe in recipes:\n",
        "    count[len(recipe.find_all('step'))].append(recipe.find('id').text)\n",
        "\n",
        "# вывод среза полученного словаря для удобства просмотра\n",
        "dict(list(dict(count).items())[:-5:-1])\n",
        "# начинаем с конца, потому что первый сильно большой"
      ]
    },
    {
      "cell_type": "markdown",
      "metadata": {
        "id": "DRie8zFrmB3O"
      },
      "source": [
        "3.3 Получите список рецептов, в этапах выполнения которых есть информация о времени (часы или минуты). Для отбора подходящих рецептов обратите внимание на атрибуты соответствующих тэгов."
      ]
    },
    {
      "cell_type": "code",
      "execution_count": null,
      "metadata": {
        "scrolled": false,
        "id": "96sblB3_mB3O",
        "outputId": "4715d75e-3c38-48d0-fe52-698ffe666b1c"
      },
      "outputs": [
        {
          "data": {
            "text/plain": [
              "[<recipe>\n",
              " <id>44123</id>\n",
              " <steps>\n",
              " <step has_minutes=\"1\">in 1 / 4 cup butter , saute carrots , onion , celery and broccoli stems for 5 minutes</step>\n",
              " <step>add thyme , oregano and basil</step>\n",
              " <step has_minutes=\"1\">saute 5 minutes more</step>\n",
              " <step>add wine and deglaze pan</step>\n",
              " <step>add hot chicken stock and reduce by one-third</step>\n",
              " <step>add worcestershire sauce , tabasco , smoked chicken , beans and broccoli florets</step>\n",
              " <step has_minutes=\"1\">simmer 5 minutes</step>\n",
              " <step has_minutes=\"1\">add cream , simmer 5 minutes more and season to taste</step>\n",
              " <step>drop in remaining butter , piece by piece , stirring until melted and serve immediately</step>\n",
              " <step>smoked chicken: on a covered grill , slightly smoke boneless chicken , cooking to medium rare</step>\n",
              " <step>chef meskan uses applewood chips and does not allow the grill to become too hot</step>\n",
              " </steps>\n",
              " </recipe>,\n",
              " <recipe>\n",
              " <id>44123</id>\n",
              " <steps>\n",
              " <step has_minutes=\"1\">in 1 / 4 cup butter , saute carrots , onion , celery and broccoli stems for 5 minutes</step>\n",
              " <step>add thyme , oregano and basil</step>\n",
              " <step has_minutes=\"1\">saute 5 minutes more</step>\n",
              " <step>add wine and deglaze pan</step>\n",
              " <step>add hot chicken stock and reduce by one-third</step>\n",
              " <step>add worcestershire sauce , tabasco , smoked chicken , beans and broccoli florets</step>\n",
              " <step has_minutes=\"1\">simmer 5 minutes</step>\n",
              " <step has_minutes=\"1\">add cream , simmer 5 minutes more and season to taste</step>\n",
              " <step>drop in remaining butter , piece by piece , stirring until melted and serve immediately</step>\n",
              " <step>smoked chicken: on a covered grill , slightly smoke boneless chicken , cooking to medium rare</step>\n",
              " <step>chef meskan uses applewood chips and does not allow the grill to become too hot</step>\n",
              " </steps>\n",
              " </recipe>,\n",
              " <recipe>\n",
              " <id>44123</id>\n",
              " <steps>\n",
              " <step has_minutes=\"1\">in 1 / 4 cup butter , saute carrots , onion , celery and broccoli stems for 5 minutes</step>\n",
              " <step>add thyme , oregano and basil</step>\n",
              " <step has_minutes=\"1\">saute 5 minutes more</step>\n",
              " <step>add wine and deglaze pan</step>\n",
              " <step>add hot chicken stock and reduce by one-third</step>\n",
              " <step>add worcestershire sauce , tabasco , smoked chicken , beans and broccoli florets</step>\n",
              " <step has_minutes=\"1\">simmer 5 minutes</step>\n",
              " <step has_minutes=\"1\">add cream , simmer 5 minutes more and season to taste</step>\n",
              " <step>drop in remaining butter , piece by piece , stirring until melted and serve immediately</step>\n",
              " <step>smoked chicken: on a covered grill , slightly smoke boneless chicken , cooking to medium rare</step>\n",
              " <step>chef meskan uses applewood chips and does not allow the grill to become too hot</step>\n",
              " </steps>\n",
              " </recipe>]"
            ]
          },
          "execution_count": 26,
          "metadata": {},
          "output_type": "execute_result"
        }
      ],
      "source": [
        "recipes = steps_sample.find_all('recipe')\n",
        "recipe_list = []\n",
        "for recipe in recipes:\n",
        "    for step in recipe.find_all('step'):\n",
        "        if step.has_attr('has_minutes'):\n",
        "            recipe_list.append(recipe)\n",
        "recipe_list[:3]"
      ]
    },
    {
      "cell_type": "markdown",
      "metadata": {
        "id": "dxxgTNodmB3O"
      },
      "source": [
        "3.4 Загрузите данные из файла recipes_sample.csv (ЛР2) в таблицу recipes. Для строк, которые содержат пропуски в столбце n_steps, заполните этот столбец на основе файла steps_sample.xml. Строки, в которых столбец n_steps заполнен, оставьте без изменений."
      ]
    },
    {
      "cell_type": "code",
      "execution_count": null,
      "metadata": {
        "id": "WikCynPjmB3O"
      },
      "outputs": [],
      "source": [
        "# не запускается\n",
        "recipes_ = pd.read_csv('recipes_sample.csv', header=0)\n",
        "\n",
        "#with open('steps_sample.xml') as f:\n",
        "#    steps_sample = BeautifulSoup(f, 'xml')\n",
        "\n",
        "# Проход по каждой строке в DataFrame\n",
        "for index, row in recipes_.iterrows():\n",
        "    # Проверка, что строка с n_steps, равным NaN\n",
        "    if pd.isnull(row['n_steps']):\n",
        "        recipe_id = row['id']\n",
        "\n",
        "        # Поиск соответствующего <recipe> в XML\n",
        "        recipe_nan = steps_sample.find(attrs={'id': recipe_id})\n",
        "\n",
        "        if recipe_nan is not None:\n",
        "            n_steps = len(recipe_nan.find_all('step'))\n",
        "            recipes_.at[index, 'n_steps'] = n_steps\n",
        "\n",
        "recipes_"
      ]
    },
    {
      "cell_type": "code",
      "execution_count": null,
      "metadata": {
        "id": "IHy7fyD8mB3P"
      },
      "outputs": [],
      "source": [
        "# альтернативный (не совсем верный) вариант\n",
        "from collections import defaultdict\n",
        "\n",
        "recipes_steps_count = defaultdict(list)\n",
        "for recipe in steps_sample.find_all('recipe'):\n",
        "    recipes_steps_count[recipe.find('id').text].append(len([step.text for step in recipe.find_all('step')]))\n",
        "\n",
        "import pandas as pd\n",
        "recipes = steps_sample.find_all('recipe')\n",
        "recipes_sample = pd.read_csv('recipes_sample.csv', delimiter=',')\n",
        "for i in range(recipes_sample.shape[0]):\n",
        "    if pd.isnull(recipes_sample.iloc[i]['n_steps']):\n",
        "        recipe_id = recipes_sample.iloc[i]['id']\n",
        "        if recipe_id in recipes_steps_count:\n",
        "            recipes_sample.at[i, 'n_steps'] = recipes_steps_count[recipe_id]\n",
        "\n",
        "# функция at позволяет получить или изменить значение ячейки в таблице данных\n",
        "# по указанным меткам индекса и названию столбца"
      ]
    },
    {
      "cell_type": "code",
      "execution_count": null,
      "metadata": {
        "id": "KRLlsgkNmB3P"
      },
      "outputs": [],
      "source": [
        "# ещё один (рабочий) вариант\n",
        "import pandas as pd\n",
        "import xml.etree.ElementTree as ET\n",
        "\n",
        "recipes_ = pd.read_csv('recipes_sample.csv', header=0)\n",
        "\n",
        "tree = ET.parse('steps_sample.xml')\n",
        "root = tree.getroot()\n",
        "\n",
        "# Проход по каждой строке в DataFrame\n",
        "for index, row in recipes_.iterrows():\n",
        "    if pd.isnull(row['n_steps']):\n",
        "        recipe_id = row['id']\n",
        "\n",
        "        # Поиск соответствующего <recipe> в XML\n",
        "        recipe_xml = root.find(f\"recipe[id='{recipe_id}']\")\n",
        "\n",
        "        if recipe_xml is not None:\n",
        "            n_steps = len(recipe_xml.findall('steps/step'))\n",
        "            recipes_.at[index, 'n_steps'] = n_steps\n",
        "\n",
        "recipes_"
      ]
    },
    {
      "cell_type": "markdown",
      "metadata": {
        "id": "0ToxxBPfmB3P"
      },
      "source": [
        "3.5 Проверьте, содержит ли столбец `n_steps` пропуски. Если нет, то преобразуйте его к целочисленному типу и сохраните результаты в файл `recipes_sample_with_filled_nsteps.csv`"
      ]
    },
    {
      "cell_type": "code",
      "execution_count": null,
      "metadata": {
        "id": "PwXHTuUfmB3Q",
        "outputId": "3ac6be12-4c6b-4f54-dd7c-ce23710dff89"
      },
      "outputs": [
        {
          "name": "stdout",
          "output_type": "stream",
          "text": [
            "Имеются пропуски в столбце n_steps\n"
          ]
        }
      ],
      "source": [
        "hasNans = False\n",
        "for index, row in recipes.iterrows():\n",
        "    if pd.isnull(row['n_steps']):\n",
        "        hasNans = True\n",
        "        break\n",
        "\n",
        "if not hasNans:\n",
        "    df = pd.DataFrame(recipes)\n",
        "    df.to_csv('recipes_sample_with_filled_nsteps.csv', index=False)\n",
        "    print('Успешно, сохранено в recipes_sample_with_filled_nsteps.csv')\n",
        "else:\n",
        "    print('Имеются пропуски в столбце n_steps')"
      ]
    }
  ],
  "metadata": {
    "kernelspec": {
      "display_name": "Python 3 (ipykernel)",
      "language": "python",
      "name": "python3"
    },
    "language_info": {
      "codemirror_mode": {
        "name": "ipython",
        "version": 3
      },
      "file_extension": ".py",
      "mimetype": "text/x-python",
      "name": "python",
      "nbconvert_exporter": "python",
      "pygments_lexer": "ipython3",
      "version": "3.11.4"
    },
    "colab": {
      "provenance": []
    }
  },
  "nbformat": 4,
  "nbformat_minor": 0
}