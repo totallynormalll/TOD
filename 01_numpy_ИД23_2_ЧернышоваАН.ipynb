{
  "cells": [
    {
      "cell_type": "markdown",
      "metadata": {
        "id": "vhNqt7iLjnpV"
      },
      "source": [
        "# Numpy"
      ]
    },
    {
      "cell_type": "markdown",
      "metadata": {
        "id": "c1BR3MTljnpY"
      },
      "source": [
        "Материалы:\n",
        "* Макрушин С.В. \"Лекция 1: Библиотека Numpy\"\n",
        "* https://numpy.org/doc/stable/user/index.html\n",
        "* https://numpy.org/doc/stable/reference/index.html"
      ]
    },
    {
      "cell_type": "markdown",
      "metadata": {
        "id": "8rv9_74njnpa"
      },
      "source": [
        "## Задачи для совместного разбора"
      ]
    },
    {
      "cell_type": "markdown",
      "metadata": {
        "id": "hynRmCFGjnpa"
      },
      "source": [
        "1. Сгенерировать двухмерный массив `arr` размерности (4, 7), состоящий из случайных действительных чисел, равномерно распределенных в диапазоне от 0 до 20. Нормализовать значения массива с помощью преобразования вида  $𝑎𝑥+𝑏$  так, что после нормализации максимальный элемент масcива будет равен 1.0, минимальный 0.0"
      ]
    },
    {
      "cell_type": "code",
      "source": [
        "import numpy as np"
      ],
      "metadata": {
        "id": "0HhOkXszlgCt"
      },
      "execution_count": null,
      "outputs": []
    },
    {
      "cell_type": "code",
      "execution_count": null,
      "metadata": {
        "scrolled": true,
        "colab": {
          "base_uri": "https://localhost:8080/"
        },
        "id": "04Qc4euEjnpb",
        "outputId": "a786a58f-c91e-4167-a101-aed6e3a8f01c"
      },
      "outputs": [
        {
          "output_type": "execute_result",
          "data": {
            "text/plain": [
              "array([[ 8, 17, 14, 15, 16, 16, 10],\n",
              "       [12,  3,  0,  3,  5, 11,  5],\n",
              "       [ 8,  3,  4, 12, 18, 15,  9],\n",
              "       [16,  5, 16,  5, 13,  5,  2]])"
            ]
          },
          "metadata": {},
          "execution_count": 3
        }
      ],
      "source": [
        "arr = np.random.randint(0, 20+1, (4,7))\n",
        "arr"
      ]
    },
    {
      "cell_type": "code",
      "execution_count": null,
      "metadata": {
        "colab": {
          "base_uri": "https://localhost:8080/"
        },
        "id": "LQnBuwVjjnpc",
        "outputId": "6e8329de-c4dc-4b8f-ac4c-e83134974a8c"
      },
      "outputs": [
        {
          "output_type": "execute_result",
          "data": {
            "text/plain": [
              "array([[0.4 , 0.85, 0.7 , 0.75, 0.8 , 0.8 , 0.5 ],\n",
              "       [0.6 , 0.15, 0.  , 0.15, 0.25, 0.55, 0.25],\n",
              "       [0.4 , 0.15, 0.2 , 0.6 , 0.9 , 0.75, 0.45],\n",
              "       [0.8 , 0.25, 0.8 , 0.25, 0.65, 0.25, 0.1 ]])"
            ]
          },
          "metadata": {},
          "execution_count": 4
        }
      ],
      "source": [
        "arr/20"
      ]
    },
    {
      "cell_type": "markdown",
      "metadata": {
        "id": "DUU5U8Cejnpc"
      },
      "source": [
        "2. Создать матрицу 8 на 10 из случайных целых (используя модуль `numpy.random`) чисел из диапозона от 0 до 10 и найти в ней строку (ее индекс и вывести саму строку), в которой сумма значений минимальна."
      ]
    },
    {
      "cell_type": "code",
      "source": [
        "matrix = np.random.randint(0,10+1,(8,10))\n",
        "print(matrix)\n",
        "res=[i.sum() for i in matrix]\n",
        "print(f'Строка: {matrix[res.index(min(res))]}, индекс: {res.index(min(res))}, минимальная сумма: {min(res)}')"
      ],
      "metadata": {
        "colab": {
          "base_uri": "https://localhost:8080/"
        },
        "id": "_R_2yk2YnVRp",
        "outputId": "d2306af8-e278-46cb-83fd-7e4aa22dba40"
      },
      "execution_count": null,
      "outputs": [
        {
          "output_type": "stream",
          "name": "stdout",
          "text": [
            "[[ 1  5  0  5  4  9  1 10  5  3]\n",
            " [ 6  6  8  0  1  4  1  6  4  9]\n",
            " [ 9  2  5 10 10  1  5  6  3  9]\n",
            " [ 8  7  6  1  1  2  4  3 10  7]\n",
            " [ 2  3  7  0  1  0  5  1  6  0]\n",
            " [ 0  3  0  7  5  9  1  5  5  7]\n",
            " [ 5  5  0  1  3  0  5  1  8  7]\n",
            " [10  2 10 10  4  7  6  2  2  0]]\n",
            "Строка: [2 3 7 0 1 0 5 1 6 0], индекс: 4, минимальная сумма: 25\n"
          ]
        }
      ]
    },
    {
      "cell_type": "markdown",
      "metadata": {
        "id": "Qx_Bzyd0jnpd"
      },
      "source": [
        "3. Найти евклидово расстояние между двумя одномерными векторами одинаковой размерности."
      ]
    },
    {
      "cell_type": "code",
      "execution_count": null,
      "metadata": {
        "id": "3jSp_rjejnpe",
        "outputId": "f6a121bc-6f59-42e2-84aa-ca6d5ed71295",
        "colab": {
          "base_uri": "https://localhost:8080/"
        }
      },
      "outputs": [
        {
          "output_type": "stream",
          "name": "stdout",
          "text": [
            "[1 2 2 3] [5 1 4 5] 5.0 "
          ]
        }
      ],
      "source": [
        "a = np.random.randint(1, 6, 4)\n",
        "b = np.random.randint(1, 6, 4)\n",
        "evkl = np.linalg.norm(a - b)\n",
        "print(a, b, evkl, end = ' ')\n",
        "\n",
        "# np.linalg.norm() - функция для нахождения евклидова расстояния"
      ]
    },
    {
      "cell_type": "markdown",
      "metadata": {
        "id": "hyiyOXEAjnpe"
      },
      "source": [
        "4. Решить матричное уравнение `A*X*B=-C` - найти матрицу `X`. Где `A = [[-1, 2, 4], [-3, 1, 2], [-3, 0, 1]]`, `B=[[3, -1], [2, 1]]`, `C=[[7, 21], [11, 8], [8, 4]]`."
      ]
    },
    {
      "cell_type": "code",
      "execution_count": null,
      "metadata": {
        "id": "OWebRcF-jnpe",
        "outputId": "f9645416-bb7c-4cf5-8f32-2d267ec22574",
        "colab": {
          "base_uri": "https://localhost:8080/"
        }
      },
      "outputs": [
        {
          "output_type": "execute_result",
          "data": {
            "text/plain": [
              "array([[ 1.00000000e+00,  5.32907052e-16],\n",
              "       [-2.00000000e+00,  1.00000000e+00],\n",
              "       [ 3.00000000e+00, -4.00000000e+00]])"
            ]
          },
          "metadata": {},
          "execution_count": 7
        }
      ],
      "source": [
        "A = np.array([[-1,2,4], [-3,1,2], [-3,0,1]])\n",
        "B = np.array([[3,-1], [2,1]])\n",
        "C = np.array([[7,21], [11,8], [8,4]])\n",
        "X = np.linalg.inv(A) @ (-C) @ np.linalg.inv(B)\n",
        "X"
      ]
    },
    {
      "cell_type": "markdown",
      "metadata": {
        "id": "JKIwu0Hvjnpe"
      },
      "source": [
        "## Лабораторная работа №1"
      ]
    },
    {
      "cell_type": "markdown",
      "metadata": {
        "id": "8h39H1Bjjnpe"
      },
      "source": [
        "Замечание: при решении данных задач не подразумевается использования циклов или генераторов Python, если в задании не сказано обратного. Решение должно опираться на использования функционала библиотеки `numpy`."
      ]
    },
    {
      "cell_type": "markdown",
      "source": [
        "\n",
        "    1. loadtxt(fname, dtype=float, comments='#',delimiter=None, converters=None, skiprows=0, usecols=None, unpack=False, ndmin=0, encoding='bytes', max_rows=None, *, quotechar=None,like=None)\n",
        "    2. fname (обязательный) - имя файла или файлоподобный объект, из которого нужно загрузить данные.\n",
        "    3. dtype (опциональный) - тип данных, в который нужно преобразовать загруженные значения.\n",
        "    4. comments (опциональный) - символ комментария, все строки, начинающиеся с этого символа, будут проигнорированы.\n",
        "    5. delimiter (опциональный) - разделитель между значениями в файле.\n",
        "    6. skiprows (опциональный) - количество строк, которые нужно пропустить перед началом загрузки данных.\n",
        "    7. usecols (опциональный) - индексы столбцов, которые нужно загрузить.\n",
        "    8. unpack (опциональный) - если True, данные будут распакованы в отдельные массивы столбцов.\n",
        "    9. ndmin (опциональный) - минимальное количество измерений, которое должны иметь загруженные данные."
      ],
      "metadata": {
        "id": "YN0iTCa-C_A7"
      }
    },
    {
      "cell_type": "markdown",
      "metadata": {
        "id": "UcBF6xMSjnpe"
      },
      "source": [
        "1. Файл `minutes_n_ingredients.csv` содержит информацию об идентификаторе рецепта, времени его выполнения в минутах и количестве необходимых ингредиентов. Считайте данные из этого файла в виде массива `numpy` типа `int32`, используя `np.loadtxt`. Выведите на экран первые 5 строк массива."
      ]
    },
    {
      "cell_type": "code",
      "execution_count": null,
      "metadata": {
        "id": "206oRUfkjnpf",
        "outputId": "26f594f7-76ef-44a7-ac5a-e61a5e8587e4",
        "colab": {
          "base_uri": "https://localhost:8080/"
        }
      },
      "outputs": [
        {
          "output_type": "execute_result",
          "data": {
            "text/plain": [
              "array([[127244,     60,     16],\n",
              "       [ 23891,     25,      7],\n",
              "       [ 94746,     10,      6],\n",
              "       [ 67660,      5,      6],\n",
              "       [157911,     60,     14]], dtype=int32)"
            ]
          },
          "metadata": {},
          "execution_count": 8
        }
      ],
      "source": [
        "recipes = np.loadtxt('minutes_n_ingredients.csv', delimiter=',', dtype=np.int32, skiprows=1)\n",
        "recipes[:5]"
      ]
    },
    {
      "cell_type": "markdown",
      "metadata": {
        "id": "o23h62XAjnpf"
      },
      "source": [
        "2. Вычислите среднее значение, минимум, максимум и медиану по каждому из столбцов, кроме первого."
      ]
    },
    {
      "cell_type": "code",
      "execution_count": null,
      "metadata": {
        "id": "z9ne6Htjjnpf",
        "outputId": "0584a34f-0ebb-48be-8b54-d4de6e42699a",
        "colab": {
          "base_uri": "https://localhost:8080/"
        }
      },
      "outputs": [
        {
          "output_type": "stream",
          "name": "stdout",
          "text": [
            "Среднее значение для минут =  21601.00169\n",
            "Минимальное значение для минут =  0\n",
            "Максимальное значение для минут = 2147483647\n",
            "Медиана для минут = 40.0\n"
          ]
        }
      ],
      "source": [
        "print(f'Среднее значение для минут =  {np.average(recipes[:,1])}')\n",
        "print(f'Минимальное значение для минут =  {np.min(recipes[:,1])}')\n",
        "print(f'Максимальное значение для минут = {np.max(recipes[:,1])}')\n",
        "print(f'Медиана для минут = {np.median(recipes[:,1])}')"
      ]
    },
    {
      "cell_type": "markdown",
      "metadata": {
        "id": "_NvW0HXOjnpg"
      },
      "source": [
        "3. Ограничьте сверху значения продолжительности выполнения рецепта значением квантиля $q_{0.75}$."
      ]
    },
    {
      "cell_type": "markdown",
      "source": [
        " np.clip(a, a_min, a_max) - ограничение значений массива в определенном диапазоне\n",
        "\n",
        "    1. a (обязательный) - массив, значения которого нужно ограничить.\n",
        "    2. a_min (обязательный) - минимальное значение, которое может принимать массив. Если элемент массива меньше a_min, он будет заменен на a_min.\n",
        "    3. a_max (обязательный) - максимальное значение, которое может принимать массив. Если элемент массива больше a_max, он будет заменен на a_max.\n",
        "\n",
        " np.quantile(a, q, axis=None)\n",
        "\n",
        "    1. a (обязательный) - массив, для которого нужно вычислить квантиль.\n",
        "    2. q (обязательный) - значение квантиля, которое должно быть в диапазоне от 0 до 1. Например, 0.5 соответствует медиане.\n",
        "    3. axis (необязательный) - ось, по которой нужно вычислить квантиль. Если не указано, квантиль вычисляется по всему массиву."
      ],
      "metadata": {
        "id": "2-vWviOXIOwR"
      }
    },
    {
      "cell_type": "code",
      "execution_count": null,
      "metadata": {
        "id": "xlCm1PFsjnpg",
        "outputId": "763698b0-a1aa-4ee5-90af-7626f4105406",
        "colab": {
          "base_uri": "https://localhost:8080/"
        }
      },
      "outputs": [
        {
          "output_type": "stream",
          "name": "stdout",
          "text": [
            "было\n",
            " [[ 60]\n",
            " [ 25]\n",
            " [ 10]\n",
            " ...\n",
            " [ 65]\n",
            " [  5]\n",
            " [140]]\n",
            "стало\n",
            " [[60.]\n",
            " [25.]\n",
            " [10.]\n",
            " ...\n",
            " [65.]\n",
            " [ 5.]\n",
            " [65.]]\n",
            "ограничение [65.]\n"
          ]
        }
      ],
      "source": [
        "minutes = recipes[:,1:2]\n",
        "print(\"было\\n\", minutes)\n",
        "stop = np.clip(minutes, 0, np.quantile(minutes, 0.75))\n",
        "print(\"стало\\n\", stop)\n",
        "print(\"ограничение\", max(stop))"
      ]
    },
    {
      "cell_type": "markdown",
      "metadata": {
        "id": "FP7FFT9Vjnpg"
      },
      "source": [
        "4. Посчитайте, для скольких рецептов указана продолжительность, равная нулю. Замените для таких строк значение в данном столбце на 1."
      ]
    },
    {
      "cell_type": "code",
      "execution_count": null,
      "metadata": {
        "id": "xRibXanfjnph",
        "outputId": "f46c98eb-0b8d-4e7f-fa58-618f32ed6429",
        "colab": {
          "base_uri": "https://localhost:8080/"
        }
      },
      "outputs": [
        {
          "output_type": "stream",
          "name": "stdout",
          "text": [
            "479\n",
            "0\n"
          ]
        }
      ],
      "source": [
        "print(len(recipes[:,1:2][recipes[:,1:2] == 0]))\n",
        "recipes[:,1:2][recipes[:,1:2] == 0] = 1\n",
        "print(len(recipes[:,1:2][recipes[:,1:2] == 0]))"
      ]
    },
    {
      "cell_type": "markdown",
      "metadata": {
        "id": "yYZYyqKsjnph"
      },
      "source": [
        "5. Посчитайте, сколько уникальных рецептов находится в датасете."
      ]
    },
    {
      "cell_type": "markdown",
      "source": [
        " np.unique(arr, axis=None)\n",
        "1. arr - многомерный массив\n",
        "2. axis - указывает, по какой оси нужно искать уникальные значения (в случае двумерного массива (матрицы), ось 0 соответствует строкам, а ось 1 соответствует столбцам)"
      ],
      "metadata": {
        "id": "QExqfzC3OfvC"
      }
    },
    {
      "cell_type": "code",
      "execution_count": null,
      "metadata": {
        "id": "wLqtzHjajnph",
        "outputId": "63163c24-0921-40b9-f609-18670774cf2d",
        "colab": {
          "base_uri": "https://localhost:8080/"
        }
      },
      "outputs": [
        {
          "output_type": "execute_result",
          "data": {
            "text/plain": [
              "100000"
            ]
          },
          "metadata": {},
          "execution_count": 12
        }
      ],
      "source": [
        "len(np.unique(recipes, axis=0))"
      ]
    },
    {
      "cell_type": "markdown",
      "metadata": {
        "id": "A06jNdxejnph"
      },
      "source": [
        "6. Сколько и каких различных значений кол-ва ингредиентов присутвует в рецептах из датасета?"
      ]
    },
    {
      "cell_type": "code",
      "execution_count": null,
      "metadata": {
        "id": "EQhyNUMljnph",
        "outputId": "ce620410-88e1-4612-db33-c8ef43b820a9",
        "colab": {
          "base_uri": "https://localhost:8080/"
        }
      },
      "outputs": [
        {
          "output_type": "execute_result",
          "data": {
            "text/plain": [
              "(37,\n",
              " array([ 1,  2,  3,  4,  5,  6,  7,  8,  9, 10, 11, 12, 13, 14, 15, 16, 17,\n",
              "        18, 19, 20, 21, 22, 23, 24, 25, 26, 27, 28, 29, 30, 31, 32, 33, 34,\n",
              "        35, 37, 39], dtype=int32))"
            ]
          },
          "metadata": {},
          "execution_count": 56
        }
      ],
      "source": [
        "len(np.unique(recipes[:,2])), np.unique(recipes[:,2])"
      ]
    },
    {
      "cell_type": "markdown",
      "metadata": {
        "id": "oQ16FQwijnph"
      },
      "source": [
        "7. Создайте версию массива, содержащую информацию только о рецептах, состоящих не более чем из 5 ингредиентов."
      ]
    },
    {
      "cell_type": "code",
      "execution_count": null,
      "metadata": {
        "id": "InViThe-jnpi",
        "outputId": "42af3401-f80f-4e95-f457-3d9208e63ddf",
        "colab": {
          "base_uri": "https://localhost:8080/"
        }
      },
      "outputs": [
        {
          "output_type": "stream",
          "name": "stdout",
          "text": [
            "[[446597     15      5]\n",
            " [204134      5      3]\n",
            " [ 25623      6      4]\n",
            " ...\n",
            " [ 52088     60      5]\n",
            " [128811     15      4]\n",
            " [370915      5      4]]\n"
          ]
        }
      ],
      "source": [
        "recipes_5 = recipes[recipes[:,2] <= 5]\n",
        "print(recipes_5)"
      ]
    },
    {
      "cell_type": "markdown",
      "metadata": {
        "id": "xdXa5rH3jnpi"
      },
      "source": [
        "8. Для каждого рецепта посчитайте, сколько в среднем ингредиентов приходится на одну минуту рецепта. Найдите максимальное значение этой величины для всего датасета"
      ]
    },
    {
      "cell_type": "code",
      "execution_count": null,
      "metadata": {
        "id": "5BdZw1pKjnpi",
        "outputId": "1b3cd9c0-b21e-490b-e1ab-ffb0fe775f5c",
        "colab": {
          "base_uri": "https://localhost:8080/"
        }
      },
      "outputs": [
        {
          "output_type": "execute_result",
          "data": {
            "text/plain": [
              "(array([0.26666667, 0.28      , 0.6       , ..., 0.23076923, 0.8       ,\n",
              "        0.1       ]),\n",
              " 24.0)"
            ]
          },
          "metadata": {},
          "execution_count": 20
        }
      ],
      "source": [
        "res = np.array([])\n",
        "for i in range(recipes.shape[0]):\n",
        "    res = np.append(res, recipes[:,2][i]/recipes[:,1:2][i])\n",
        "res, res.max()"
      ]
    },
    {
      "cell_type": "markdown",
      "metadata": {
        "id": "_l2JbpbBjnpi"
      },
      "source": [
        "9. Вычислите среднее количество ингредиентов для топ-100 рецептов с наибольшей продолжительностью"
      ]
    },
    {
      "cell_type": "code",
      "execution_count": null,
      "metadata": {
        "id": "UWVjxFMMjnpi",
        "outputId": "fe9d9073-2954-4fcf-d017-23d4e5e7d47a"
      },
      "outputs": [
        {
          "data": {
            "text/plain": [
              "16.0"
            ]
          },
          "execution_count": 34,
          "metadata": {},
          "output_type": "execute_result"
        }
      ],
      "source": [
        "top100 = np.argsort(recipes[:,1:2])[:100:-1] # индексы рецептов с наибольшей продолжительностью\n",
        "ingr = np.array([])\n",
        "for i in top100:\n",
        "    ingr = np.append(ingr, recipes[:,2][i])\n",
        "np.average(ingr)"
      ]
    },
    {
      "cell_type": "markdown",
      "metadata": {
        "id": "XmOZdjsvjnpj"
      },
      "source": [
        "10. Выберите случайным образом и выведите информацию о 10 различных рецептах"
      ]
    },
    {
      "cell_type": "code",
      "execution_count": null,
      "metadata": {
        "scrolled": true,
        "id": "vZImxN_qjnpn",
        "outputId": "9a9da4bb-0a1a-4e6e-b2ec-90ed7b79b8e6"
      },
      "outputs": [
        {
          "name": "stdout",
          "output_type": "stream",
          "text": [
            "[[ 81859      5      6]\n",
            " [367704     20      6]\n",
            " [285773     35      9]\n",
            " [225770     60      9]\n",
            " [217653     55     13]\n",
            " [ 21667     25      9]\n",
            " [514034     60     13]\n",
            " [407060     30      7]\n",
            " [448258    200     13]\n",
            " [312767     30      4]]\n"
          ]
        }
      ],
      "source": [
        "random_recipes = np.random.randint(0, recipes.shape[0], 10)\n",
        "print(recipes[random_recipes])"
      ]
    },
    {
      "cell_type": "markdown",
      "metadata": {
        "id": "P39hLANAjnpn"
      },
      "source": [
        "11. Выведите процент рецептов, кол-во ингредиентов в которых меньше среднего."
      ]
    },
    {
      "cell_type": "code",
      "execution_count": null,
      "metadata": {
        "id": "PzFn2zRWjnpn",
        "outputId": "943616b2-b558-4450-860b-073dd3423868"
      },
      "outputs": [
        {
          "data": {
            "text/plain": [
              "58.802"
            ]
          },
          "execution_count": 41,
          "metadata": {},
          "output_type": "execute_result"
        }
      ],
      "source": [
        "aver_ing = np.average(recipes[:,2])\n",
        "no_more_aver = recipes[:,2][recipes[:,2] < aver_ing]\n",
        "len(no_more_aver)/len(recipes)*100"
      ]
    },
    {
      "cell_type": "markdown",
      "metadata": {
        "id": "-kgkRYYOjnpo"
      },
      "source": [
        "12. Назовем \"простым\" такой рецепт, длительность выполнения которого не больше 20 минут и кол-во ингредиентов в котором не больше 5. Создайте версию датасета с дополнительным столбцом, значениями которого являются 1, если рецепт простой, и 0 в противном случае."
      ]
    },
    {
      "cell_type": "code",
      "execution_count": null,
      "metadata": {
        "id": "EF-Ncby2jnpo",
        "outputId": "0d3fa960-db59-47ec-eb63-acb426a68300"
      },
      "outputs": [
        {
          "data": {
            "text/plain": [
              "array([[127244,     60,     16,      0],\n",
              "       [ 23891,     25,      7,      0],\n",
              "       [ 94746,     10,      6,      0],\n",
              "       ...,\n",
              "       [498432,     65,     15,      0],\n",
              "       [370915,      5,      4,      1],\n",
              "       [ 81993,    140,     14,      0]])"
            ]
          },
          "execution_count": 63,
          "metadata": {},
          "output_type": "execute_result"
        }
      ],
      "source": [
        "simple_rec2 = np.array((recipes[:, 1] <= 20) & (recipes[:, 2] <= 5)).reshape(-1,1).astype('int')\n",
        "new_recipes2 = np.concatenate((recipes, simple_rec2), axis=1)\n",
        "new_recipes2"
      ]
    },
    {
      "cell_type": "code",
      "execution_count": null,
      "metadata": {
        "id": "StVWwXkgjnpo"
      },
      "outputs": [],
      "source": [
        "# arr.reshape(-1,1) - столбец\n",
        "# arr.reshape(1,-1) - строка"
      ]
    },
    {
      "cell_type": "markdown",
      "metadata": {
        "id": "-adOTSAzjnpo"
      },
      "source": [
        "13. Выведите процент \"простых\" рецептов в датасете"
      ]
    },
    {
      "cell_type": "code",
      "execution_count": null,
      "metadata": {
        "id": "ofrbApvSjnpo",
        "outputId": "16e29a1a-1949-4b9a-d4c1-ed26880f41e3"
      },
      "outputs": [
        {
          "data": {
            "text/plain": [
              "9.552"
            ]
          },
          "execution_count": 66,
          "metadata": {},
          "output_type": "execute_result"
        }
      ],
      "source": [
        "(simple_rec2[simple_rec2 == 1].shape[0] / simple_rec2.shape[0]) * 100"
      ]
    }
  ],
  "metadata": {
    "kernelspec": {
      "display_name": "Python 3 (ipykernel)",
      "language": "python",
      "name": "python3"
    },
    "language_info": {
      "codemirror_mode": {
        "name": "ipython",
        "version": 3
      },
      "file_extension": ".py",
      "mimetype": "text/x-python",
      "name": "python",
      "nbconvert_exporter": "python",
      "pygments_lexer": "ipython3",
      "version": "3.11.4"
    },
    "colab": {
      "provenance": []
    }
  },
  "nbformat": 4,
  "nbformat_minor": 0
}